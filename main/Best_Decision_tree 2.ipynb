{
 "cells": [
  {
   "cell_type": "code",
   "execution_count": 1,
   "id": "4341b739-46d6-426a-b041-f2df05d67d6a",
   "metadata": {},
   "outputs": [
    {
     "name": "stdout",
     "output_type": "stream",
     "text": [
      "Requirement already satisfied: pip in /Library/Frameworks/Python.framework/Versions/3.12/lib/python3.12/site-packages (24.2)\n"
     ]
    }
   ],
   "source": [
    "!pip3 install --upgrade pip"
   ]
  },
  {
   "cell_type": "code",
   "execution_count": 74,
   "id": "bcede9c6-b3fa-4964-b8a1-a4d51268ebe5",
   "metadata": {},
   "outputs": [],
   "source": [
    "import pandas as pd"
   ]
  },
  {
   "cell_type": "code",
   "execution_count": 75,
   "id": "c77232a6-73c1-4123-b3c0-1f101d04eb77",
   "metadata": {},
   "outputs": [],
   "source": [
    "import pandas as pd\n",
    "import numpy as np\n",
    "import matplotlib\n",
    "matplotlib.use('TkAgg')\n",
    "import matplotlib.pyplot as plt\n",
    "import seaborn as sns"
   ]
  },
  {
   "cell_type": "code",
   "execution_count": 76,
   "id": "52b12665-3752-46ad-9e01-a0bc7b172108",
   "metadata": {},
   "outputs": [],
   "source": [
    "Invest  = pd.read_csv('final_transactions_dataset.csv')"
   ]
  },
  {
   "cell_type": "code",
   "execution_count": 77,
   "id": "864e2e6b-9f57-444b-9d29-4bc4d538be0c",
   "metadata": {},
   "outputs": [],
   "source": [
    "Invest1 = Invest[0:200000]\n"
   ]
  },
  {
   "cell_type": "code",
   "execution_count": 78,
   "id": "b044c78a-26f7-4588-8316-b2aede53761b",
   "metadata": {},
   "outputs": [
    {
     "data": {
      "text/plain": [
       "<bound method NDFrame.describe of         Unnamed: 0 company  sector  horizon (days)  amount date_BUY_fix  \\\n",
       "0                0     BBY  RETAIL               2     100   2017-05-25   \n",
       "1                1     BAC    BANK             330   15000   2016-11-22   \n",
       "2                2     AXP    BANK               7    3000   2016-09-27   \n",
       "3                3     KSS  RETAIL               5   20000   2016-10-11   \n",
       "4                4     JPM    BANK             360   15000   2015-03-12   \n",
       "...            ...     ...     ...             ...     ...          ...   \n",
       "199995      246667      GM    AUTO             120     500   2015-06-09   \n",
       "199996      246668      GM    AUTO             150    1500   2014-03-04   \n",
       "199997      246669     JPM    BANK             270    1500   2016-09-19   \n",
       "199998      246670     HMC    AUTO              90    2000   2015-01-16   \n",
       "199999      246671      DB    BANK              80    4000   2016-12-27   \n",
       "\n",
       "       date_SELL_fix  price_BUY  price_SELL  Volatility_Buy  ...  investment  \\\n",
       "0         2017-05-26  55.551804   53.483913        0.383666  ...         BAD   \n",
       "1         2017-10-18  18.616749   24.654472        0.322809  ...        GOOD   \n",
       "2         2016-10-04  59.862297   59.517727        0.238642  ...         BAD   \n",
       "3         2016-10-17  38.216724   35.985329        0.428559  ...         BAD   \n",
       "4         2016-03-07  51.869335   52.047966        0.194612  ...        GOOD   \n",
       "...              ...        ...         ...             ...  ...         ...   \n",
       "199995    2015-10-07  28.741871   27.271864        0.224747  ...         BAD   \n",
       "199996    2014-08-01  28.542963   26.292501        0.242287  ...         BAD   \n",
       "199997    2017-06-16  58.351299   77.391823        0.253744  ...        GOOD   \n",
       "199998    2015-04-16  30.840000   35.060001        0.191505  ...        GOOD   \n",
       "199999    2017-03-17  17.665504   18.300194        0.525184  ...        GOOD   \n",
       "\n",
       "        ESG_ranking  PE_ratio  EPS_ratio  PS_ratio PB_ratio  \\\n",
       "0              12.0     12.58       3.73      0.38     3.19   \n",
       "1              26.3     11.39       1.26      1.71     0.54   \n",
       "2              19.8     10.58       5.64      1.67     2.60   \n",
       "3              12.9     11.09       3.27      0.36     1.25   \n",
       "4              27.9      9.38       5.46      1.87     0.81   \n",
       "...             ...       ...        ...       ...      ...   \n",
       "199995         30.6     10.06       2.70      0.30     1.22   \n",
       "199996         30.6     14.67       1.83      0.29     1.00   \n",
       "199997         27.9     10.12       5.80      2.10     0.83   \n",
       "199998         28.5      8.09       3.08      0.38     0.73   \n",
       "199999         30.0      0.00      -1.31      0.55     0.34   \n",
       "\n",
       "        NetProfitMargin_ratio  current_ratio  roa_ratio  roe_ratio  \n",
       "0                        3.01           1.49       8.69      26.69  \n",
       "1                       15.70           0.92       0.67       5.54  \n",
       "2                       15.68           1.91       3.39      25.78  \n",
       "3                        3.17           1.60       4.41      11.35  \n",
       "4                       19.91           0.99       0.81       8.91  \n",
       "...                       ...            ...        ...        ...  \n",
       "199995                   2.98           1.22       2.53      11.97  \n",
       "199996                   1.94           1.25       1.80       7.46  \n",
       "199997                  20.86           1.04       0.89       8.66  \n",
       "199998                   4.83           1.23       3.65       9.24  \n",
       "199999                  -3.43           0.75      -0.08      -2.10  \n",
       "\n",
       "[200000 rows x 25 columns]>"
      ]
     },
     "execution_count": 78,
     "metadata": {},
     "output_type": "execute_result"
    }
   ],
   "source": [
    "Invest1.describe"
   ]
  },
  {
   "cell_type": "code",
   "execution_count": 79,
   "id": "418af969-36b6-4e2c-8884-07ffedf984ee",
   "metadata": {},
   "outputs": [],
   "source": [
    "Return = Invest1['nominal_return']"
   ]
  },
  {
   "cell_type": "code",
   "execution_count": 80,
   "id": "bb9fbbd9-539e-43cf-98b6-66eec0afa996",
   "metadata": {},
   "outputs": [],
   "source": [
    "Invest2 = Invest1.drop(['expected_return (yearly)','Unnamed: 0','company','sector','date_BUY_fix','date_SELL_fix','price_SELL','Volatility_sell','investment','Sharpe Ratio','PE_ratio','PS_ratio','PB_ratio'], axis = 1)"
   ]
  },
  {
   "cell_type": "code",
   "execution_count": 81,
   "id": "b6d54b35-3bda-490d-b3cf-6913f3de2c1f",
   "metadata": {},
   "outputs": [
    {
     "data": {
      "text/html": [
       "<div>\n",
       "<style scoped>\n",
       "    .dataframe tbody tr th:only-of-type {\n",
       "        vertical-align: middle;\n",
       "    }\n",
       "\n",
       "    .dataframe tbody tr th {\n",
       "        vertical-align: top;\n",
       "    }\n",
       "\n",
       "    .dataframe thead th {\n",
       "        text-align: right;\n",
       "    }\n",
       "</style>\n",
       "<table border=\"1\" class=\"dataframe\">\n",
       "  <thead>\n",
       "    <tr style=\"text-align: right;\">\n",
       "      <th></th>\n",
       "      <th>horizon (days)</th>\n",
       "      <th>amount</th>\n",
       "      <th>price_BUY</th>\n",
       "      <th>Volatility_Buy</th>\n",
       "      <th>inflation</th>\n",
       "      <th>nominal_return</th>\n",
       "      <th>ESG_ranking</th>\n",
       "      <th>EPS_ratio</th>\n",
       "      <th>NetProfitMargin_ratio</th>\n",
       "      <th>current_ratio</th>\n",
       "      <th>roa_ratio</th>\n",
       "      <th>roe_ratio</th>\n",
       "    </tr>\n",
       "  </thead>\n",
       "  <tbody>\n",
       "    <tr>\n",
       "      <th>0</th>\n",
       "      <td>2</td>\n",
       "      <td>100</td>\n",
       "      <td>55.551804</td>\n",
       "      <td>0.383666</td>\n",
       "      <td>1.96</td>\n",
       "      <td>-0.037225</td>\n",
       "      <td>12.0</td>\n",
       "      <td>3.73</td>\n",
       "      <td>3.01</td>\n",
       "      <td>1.49</td>\n",
       "      <td>8.69</td>\n",
       "      <td>26.69</td>\n",
       "    </tr>\n",
       "    <tr>\n",
       "      <th>1</th>\n",
       "      <td>330</td>\n",
       "      <td>15000</td>\n",
       "      <td>18.616749</td>\n",
       "      <td>0.322809</td>\n",
       "      <td>-0.20</td>\n",
       "      <td>0.324317</td>\n",
       "      <td>26.3</td>\n",
       "      <td>1.26</td>\n",
       "      <td>15.70</td>\n",
       "      <td>0.92</td>\n",
       "      <td>0.67</td>\n",
       "      <td>5.54</td>\n",
       "    </tr>\n",
       "    <tr>\n",
       "      <th>2</th>\n",
       "      <td>7</td>\n",
       "      <td>3000</td>\n",
       "      <td>59.862297</td>\n",
       "      <td>0.238642</td>\n",
       "      <td>-0.20</td>\n",
       "      <td>-0.005756</td>\n",
       "      <td>19.8</td>\n",
       "      <td>5.64</td>\n",
       "      <td>15.68</td>\n",
       "      <td>1.91</td>\n",
       "      <td>3.39</td>\n",
       "      <td>25.78</td>\n",
       "    </tr>\n",
       "    <tr>\n",
       "      <th>3</th>\n",
       "      <td>5</td>\n",
       "      <td>20000</td>\n",
       "      <td>38.216724</td>\n",
       "      <td>0.428559</td>\n",
       "      <td>-0.20</td>\n",
       "      <td>-0.058388</td>\n",
       "      <td>12.9</td>\n",
       "      <td>3.27</td>\n",
       "      <td>3.17</td>\n",
       "      <td>1.60</td>\n",
       "      <td>4.41</td>\n",
       "      <td>11.35</td>\n",
       "    </tr>\n",
       "    <tr>\n",
       "      <th>4</th>\n",
       "      <td>360</td>\n",
       "      <td>15000</td>\n",
       "      <td>51.869335</td>\n",
       "      <td>0.194612</td>\n",
       "      <td>-0.50</td>\n",
       "      <td>0.003444</td>\n",
       "      <td>27.9</td>\n",
       "      <td>5.46</td>\n",
       "      <td>19.91</td>\n",
       "      <td>0.99</td>\n",
       "      <td>0.81</td>\n",
       "      <td>8.91</td>\n",
       "    </tr>\n",
       "    <tr>\n",
       "      <th>...</th>\n",
       "      <td>...</td>\n",
       "      <td>...</td>\n",
       "      <td>...</td>\n",
       "      <td>...</td>\n",
       "      <td>...</td>\n",
       "      <td>...</td>\n",
       "      <td>...</td>\n",
       "      <td>...</td>\n",
       "      <td>...</td>\n",
       "      <td>...</td>\n",
       "      <td>...</td>\n",
       "      <td>...</td>\n",
       "    </tr>\n",
       "    <tr>\n",
       "      <th>199995</th>\n",
       "      <td>120</td>\n",
       "      <td>500</td>\n",
       "      <td>28.741871</td>\n",
       "      <td>0.224747</td>\n",
       "      <td>-0.50</td>\n",
       "      <td>-0.051145</td>\n",
       "      <td>30.6</td>\n",
       "      <td>2.70</td>\n",
       "      <td>2.98</td>\n",
       "      <td>1.22</td>\n",
       "      <td>2.53</td>\n",
       "      <td>11.97</td>\n",
       "    </tr>\n",
       "    <tr>\n",
       "      <th>199996</th>\n",
       "      <td>150</td>\n",
       "      <td>1500</td>\n",
       "      <td>28.542963</td>\n",
       "      <td>0.242287</td>\n",
       "      <td>-0.15</td>\n",
       "      <td>-0.078845</td>\n",
       "      <td>30.6</td>\n",
       "      <td>1.83</td>\n",
       "      <td>1.94</td>\n",
       "      <td>1.25</td>\n",
       "      <td>1.80</td>\n",
       "      <td>7.46</td>\n",
       "    </tr>\n",
       "    <tr>\n",
       "      <th>199997</th>\n",
       "      <td>270</td>\n",
       "      <td>1500</td>\n",
       "      <td>58.351299</td>\n",
       "      <td>0.253744</td>\n",
       "      <td>-0.20</td>\n",
       "      <td>0.326308</td>\n",
       "      <td>27.9</td>\n",
       "      <td>5.80</td>\n",
       "      <td>20.86</td>\n",
       "      <td>1.04</td>\n",
       "      <td>0.89</td>\n",
       "      <td>8.66</td>\n",
       "    </tr>\n",
       "    <tr>\n",
       "      <th>199998</th>\n",
       "      <td>90</td>\n",
       "      <td>2000</td>\n",
       "      <td>30.840000</td>\n",
       "      <td>0.191505</td>\n",
       "      <td>-0.50</td>\n",
       "      <td>0.136835</td>\n",
       "      <td>28.5</td>\n",
       "      <td>3.08</td>\n",
       "      <td>4.83</td>\n",
       "      <td>1.23</td>\n",
       "      <td>3.65</td>\n",
       "      <td>9.24</td>\n",
       "    </tr>\n",
       "    <tr>\n",
       "      <th>199999</th>\n",
       "      <td>80</td>\n",
       "      <td>4000</td>\n",
       "      <td>17.665504</td>\n",
       "      <td>0.525184</td>\n",
       "      <td>-0.20</td>\n",
       "      <td>0.035928</td>\n",
       "      <td>30.0</td>\n",
       "      <td>-1.31</td>\n",
       "      <td>-3.43</td>\n",
       "      <td>0.75</td>\n",
       "      <td>-0.08</td>\n",
       "      <td>-2.10</td>\n",
       "    </tr>\n",
       "  </tbody>\n",
       "</table>\n",
       "<p>200000 rows × 12 columns</p>\n",
       "</div>"
      ],
      "text/plain": [
       "        horizon (days)  amount  price_BUY  Volatility_Buy  inflation  \\\n",
       "0                    2     100  55.551804        0.383666       1.96   \n",
       "1                  330   15000  18.616749        0.322809      -0.20   \n",
       "2                    7    3000  59.862297        0.238642      -0.20   \n",
       "3                    5   20000  38.216724        0.428559      -0.20   \n",
       "4                  360   15000  51.869335        0.194612      -0.50   \n",
       "...                ...     ...        ...             ...        ...   \n",
       "199995             120     500  28.741871        0.224747      -0.50   \n",
       "199996             150    1500  28.542963        0.242287      -0.15   \n",
       "199997             270    1500  58.351299        0.253744      -0.20   \n",
       "199998              90    2000  30.840000        0.191505      -0.50   \n",
       "199999              80    4000  17.665504        0.525184      -0.20   \n",
       "\n",
       "        nominal_return  ESG_ranking  EPS_ratio  NetProfitMargin_ratio  \\\n",
       "0            -0.037225         12.0       3.73                   3.01   \n",
       "1             0.324317         26.3       1.26                  15.70   \n",
       "2            -0.005756         19.8       5.64                  15.68   \n",
       "3            -0.058388         12.9       3.27                   3.17   \n",
       "4             0.003444         27.9       5.46                  19.91   \n",
       "...                ...          ...        ...                    ...   \n",
       "199995       -0.051145         30.6       2.70                   2.98   \n",
       "199996       -0.078845         30.6       1.83                   1.94   \n",
       "199997        0.326308         27.9       5.80                  20.86   \n",
       "199998        0.136835         28.5       3.08                   4.83   \n",
       "199999        0.035928         30.0      -1.31                  -3.43   \n",
       "\n",
       "        current_ratio  roa_ratio  roe_ratio  \n",
       "0                1.49       8.69      26.69  \n",
       "1                0.92       0.67       5.54  \n",
       "2                1.91       3.39      25.78  \n",
       "3                1.60       4.41      11.35  \n",
       "4                0.99       0.81       8.91  \n",
       "...               ...        ...        ...  \n",
       "199995           1.22       2.53      11.97  \n",
       "199996           1.25       1.80       7.46  \n",
       "199997           1.04       0.89       8.66  \n",
       "199998           1.23       3.65       9.24  \n",
       "199999           0.75      -0.08      -2.10  \n",
       "\n",
       "[200000 rows x 12 columns]"
      ]
     },
     "execution_count": 81,
     "metadata": {},
     "output_type": "execute_result"
    }
   ],
   "source": [
    "Invest2"
   ]
  },
  {
   "cell_type": "code",
   "execution_count": 82,
   "id": "2fcbf172-0cc8-40de-8cff-c0fbb15d9391",
   "metadata": {},
   "outputs": [
    {
     "data": {
      "text/plain": [
       "(200000, 12)"
      ]
     },
     "execution_count": 82,
     "metadata": {},
     "output_type": "execute_result"
    }
   ],
   "source": [
    "Invest2.shape"
   ]
  },
  {
   "cell_type": "code",
   "execution_count": 83,
   "id": "e1f2296c-fa81-45da-b92a-e880d1df5644",
   "metadata": {},
   "outputs": [],
   "source": [
    "Return_A = Invest2.iloc[:,6].values\n"
   ]
  },
  {
   "cell_type": "code",
   "execution_count": 84,
   "id": "3c2f10d9-f3c9-4ee1-a197-077793c84eb5",
   "metadata": {},
   "outputs": [
    {
     "data": {
      "text/plain": [
       "(200000,)"
      ]
     },
     "execution_count": 84,
     "metadata": {},
     "output_type": "execute_result"
    }
   ],
   "source": [
    "Return_A.shape"
   ]
  },
  {
   "cell_type": "code",
   "execution_count": 85,
   "id": "1e19196e-0047-43e2-ba51-a499d343e5ba",
   "metadata": {},
   "outputs": [
    {
     "data": {
      "text/plain": [
       "(200000,)"
      ]
     },
     "execution_count": 85,
     "metadata": {},
     "output_type": "execute_result"
    }
   ],
   "source": [
    "Return.shape"
   ]
  },
  {
   "cell_type": "code",
   "execution_count": 86,
   "id": "832b525e-550d-46cf-8b37-4a34e1a3f1a2",
   "metadata": {},
   "outputs": [],
   "source": [
    "Invest3 =Invest2.drop(['nominal_return'], axis = 1)\n"
   ]
  },
  {
   "cell_type": "code",
   "execution_count": 87,
   "id": "ed12dc63-1132-46c5-9627-c635285d3d66",
   "metadata": {},
   "outputs": [
    {
     "data": {
      "text/plain": [
       "(200000, 12)"
      ]
     },
     "execution_count": 87,
     "metadata": {},
     "output_type": "execute_result"
    }
   ],
   "source": [
    "Invest2.shape"
   ]
  },
  {
   "cell_type": "code",
   "execution_count": 88,
   "id": "a683730a-fa45-4005-a092-8305dddaef62",
   "metadata": {},
   "outputs": [
    {
     "data": {
      "text/plain": [
       "(200000, 11)"
      ]
     },
     "execution_count": 88,
     "metadata": {},
     "output_type": "execute_result"
    }
   ],
   "source": [
    "Invest3.shape"
   ]
  },
  {
   "cell_type": "code",
   "execution_count": 89,
   "id": "c6a71844-c76e-422a-925e-760d2688d86f",
   "metadata": {},
   "outputs": [
    {
     "data": {
      "text/html": [
       "<div>\n",
       "<style scoped>\n",
       "    .dataframe tbody tr th:only-of-type {\n",
       "        vertical-align: middle;\n",
       "    }\n",
       "\n",
       "    .dataframe tbody tr th {\n",
       "        vertical-align: top;\n",
       "    }\n",
       "\n",
       "    .dataframe thead th {\n",
       "        text-align: right;\n",
       "    }\n",
       "</style>\n",
       "<table border=\"1\" class=\"dataframe\">\n",
       "  <thead>\n",
       "    <tr style=\"text-align: right;\">\n",
       "      <th></th>\n",
       "      <th>horizon (days)</th>\n",
       "      <th>amount</th>\n",
       "      <th>price_BUY</th>\n",
       "      <th>Volatility_Buy</th>\n",
       "      <th>inflation</th>\n",
       "      <th>ESG_ranking</th>\n",
       "      <th>EPS_ratio</th>\n",
       "      <th>NetProfitMargin_ratio</th>\n",
       "      <th>current_ratio</th>\n",
       "      <th>roa_ratio</th>\n",
       "      <th>roe_ratio</th>\n",
       "    </tr>\n",
       "  </thead>\n",
       "  <tbody>\n",
       "    <tr>\n",
       "      <th>0</th>\n",
       "      <td>2</td>\n",
       "      <td>100</td>\n",
       "      <td>55.551804</td>\n",
       "      <td>0.383666</td>\n",
       "      <td>1.96</td>\n",
       "      <td>12.0</td>\n",
       "      <td>3.73</td>\n",
       "      <td>3.01</td>\n",
       "      <td>1.49</td>\n",
       "      <td>8.69</td>\n",
       "      <td>26.69</td>\n",
       "    </tr>\n",
       "    <tr>\n",
       "      <th>1</th>\n",
       "      <td>330</td>\n",
       "      <td>15000</td>\n",
       "      <td>18.616749</td>\n",
       "      <td>0.322809</td>\n",
       "      <td>-0.20</td>\n",
       "      <td>26.3</td>\n",
       "      <td>1.26</td>\n",
       "      <td>15.70</td>\n",
       "      <td>0.92</td>\n",
       "      <td>0.67</td>\n",
       "      <td>5.54</td>\n",
       "    </tr>\n",
       "    <tr>\n",
       "      <th>2</th>\n",
       "      <td>7</td>\n",
       "      <td>3000</td>\n",
       "      <td>59.862297</td>\n",
       "      <td>0.238642</td>\n",
       "      <td>-0.20</td>\n",
       "      <td>19.8</td>\n",
       "      <td>5.64</td>\n",
       "      <td>15.68</td>\n",
       "      <td>1.91</td>\n",
       "      <td>3.39</td>\n",
       "      <td>25.78</td>\n",
       "    </tr>\n",
       "    <tr>\n",
       "      <th>3</th>\n",
       "      <td>5</td>\n",
       "      <td>20000</td>\n",
       "      <td>38.216724</td>\n",
       "      <td>0.428559</td>\n",
       "      <td>-0.20</td>\n",
       "      <td>12.9</td>\n",
       "      <td>3.27</td>\n",
       "      <td>3.17</td>\n",
       "      <td>1.60</td>\n",
       "      <td>4.41</td>\n",
       "      <td>11.35</td>\n",
       "    </tr>\n",
       "    <tr>\n",
       "      <th>4</th>\n",
       "      <td>360</td>\n",
       "      <td>15000</td>\n",
       "      <td>51.869335</td>\n",
       "      <td>0.194612</td>\n",
       "      <td>-0.50</td>\n",
       "      <td>27.9</td>\n",
       "      <td>5.46</td>\n",
       "      <td>19.91</td>\n",
       "      <td>0.99</td>\n",
       "      <td>0.81</td>\n",
       "      <td>8.91</td>\n",
       "    </tr>\n",
       "    <tr>\n",
       "      <th>...</th>\n",
       "      <td>...</td>\n",
       "      <td>...</td>\n",
       "      <td>...</td>\n",
       "      <td>...</td>\n",
       "      <td>...</td>\n",
       "      <td>...</td>\n",
       "      <td>...</td>\n",
       "      <td>...</td>\n",
       "      <td>...</td>\n",
       "      <td>...</td>\n",
       "      <td>...</td>\n",
       "    </tr>\n",
       "    <tr>\n",
       "      <th>199995</th>\n",
       "      <td>120</td>\n",
       "      <td>500</td>\n",
       "      <td>28.741871</td>\n",
       "      <td>0.224747</td>\n",
       "      <td>-0.50</td>\n",
       "      <td>30.6</td>\n",
       "      <td>2.70</td>\n",
       "      <td>2.98</td>\n",
       "      <td>1.22</td>\n",
       "      <td>2.53</td>\n",
       "      <td>11.97</td>\n",
       "    </tr>\n",
       "    <tr>\n",
       "      <th>199996</th>\n",
       "      <td>150</td>\n",
       "      <td>1500</td>\n",
       "      <td>28.542963</td>\n",
       "      <td>0.242287</td>\n",
       "      <td>-0.15</td>\n",
       "      <td>30.6</td>\n",
       "      <td>1.83</td>\n",
       "      <td>1.94</td>\n",
       "      <td>1.25</td>\n",
       "      <td>1.80</td>\n",
       "      <td>7.46</td>\n",
       "    </tr>\n",
       "    <tr>\n",
       "      <th>199997</th>\n",
       "      <td>270</td>\n",
       "      <td>1500</td>\n",
       "      <td>58.351299</td>\n",
       "      <td>0.253744</td>\n",
       "      <td>-0.20</td>\n",
       "      <td>27.9</td>\n",
       "      <td>5.80</td>\n",
       "      <td>20.86</td>\n",
       "      <td>1.04</td>\n",
       "      <td>0.89</td>\n",
       "      <td>8.66</td>\n",
       "    </tr>\n",
       "    <tr>\n",
       "      <th>199998</th>\n",
       "      <td>90</td>\n",
       "      <td>2000</td>\n",
       "      <td>30.840000</td>\n",
       "      <td>0.191505</td>\n",
       "      <td>-0.50</td>\n",
       "      <td>28.5</td>\n",
       "      <td>3.08</td>\n",
       "      <td>4.83</td>\n",
       "      <td>1.23</td>\n",
       "      <td>3.65</td>\n",
       "      <td>9.24</td>\n",
       "    </tr>\n",
       "    <tr>\n",
       "      <th>199999</th>\n",
       "      <td>80</td>\n",
       "      <td>4000</td>\n",
       "      <td>17.665504</td>\n",
       "      <td>0.525184</td>\n",
       "      <td>-0.20</td>\n",
       "      <td>30.0</td>\n",
       "      <td>-1.31</td>\n",
       "      <td>-3.43</td>\n",
       "      <td>0.75</td>\n",
       "      <td>-0.08</td>\n",
       "      <td>-2.10</td>\n",
       "    </tr>\n",
       "  </tbody>\n",
       "</table>\n",
       "<p>200000 rows × 11 columns</p>\n",
       "</div>"
      ],
      "text/plain": [
       "        horizon (days)  amount  price_BUY  Volatility_Buy  inflation  \\\n",
       "0                    2     100  55.551804        0.383666       1.96   \n",
       "1                  330   15000  18.616749        0.322809      -0.20   \n",
       "2                    7    3000  59.862297        0.238642      -0.20   \n",
       "3                    5   20000  38.216724        0.428559      -0.20   \n",
       "4                  360   15000  51.869335        0.194612      -0.50   \n",
       "...                ...     ...        ...             ...        ...   \n",
       "199995             120     500  28.741871        0.224747      -0.50   \n",
       "199996             150    1500  28.542963        0.242287      -0.15   \n",
       "199997             270    1500  58.351299        0.253744      -0.20   \n",
       "199998              90    2000  30.840000        0.191505      -0.50   \n",
       "199999              80    4000  17.665504        0.525184      -0.20   \n",
       "\n",
       "        ESG_ranking  EPS_ratio  NetProfitMargin_ratio  current_ratio  \\\n",
       "0              12.0       3.73                   3.01           1.49   \n",
       "1              26.3       1.26                  15.70           0.92   \n",
       "2              19.8       5.64                  15.68           1.91   \n",
       "3              12.9       3.27                   3.17           1.60   \n",
       "4              27.9       5.46                  19.91           0.99   \n",
       "...             ...        ...                    ...            ...   \n",
       "199995         30.6       2.70                   2.98           1.22   \n",
       "199996         30.6       1.83                   1.94           1.25   \n",
       "199997         27.9       5.80                  20.86           1.04   \n",
       "199998         28.5       3.08                   4.83           1.23   \n",
       "199999         30.0      -1.31                  -3.43           0.75   \n",
       "\n",
       "        roa_ratio  roe_ratio  \n",
       "0            8.69      26.69  \n",
       "1            0.67       5.54  \n",
       "2            3.39      25.78  \n",
       "3            4.41      11.35  \n",
       "4            0.81       8.91  \n",
       "...           ...        ...  \n",
       "199995       2.53      11.97  \n",
       "199996       1.80       7.46  \n",
       "199997       0.89       8.66  \n",
       "199998       3.65       9.24  \n",
       "199999      -0.08      -2.10  \n",
       "\n",
       "[200000 rows x 11 columns]"
      ]
     },
     "execution_count": 89,
     "metadata": {},
     "output_type": "execute_result"
    }
   ],
   "source": [
    "Invest3"
   ]
  },
  {
   "cell_type": "code",
   "execution_count": 90,
   "id": "85dbca9f-8eaf-4b3a-87b0-c94658001bbc",
   "metadata": {},
   "outputs": [
    {
     "data": {
      "text/plain": [
       "(200000, 11)"
      ]
     },
     "execution_count": 90,
     "metadata": {},
     "output_type": "execute_result"
    }
   ],
   "source": [
    "Invest3.shape"
   ]
  },
  {
   "cell_type": "code",
   "execution_count": 91,
   "id": "376aa115-91bc-4d31-8014-af018511bda5",
   "metadata": {},
   "outputs": [
    {
     "data": {
      "text/html": [
       "<div>\n",
       "<style scoped>\n",
       "    .dataframe tbody tr th:only-of-type {\n",
       "        vertical-align: middle;\n",
       "    }\n",
       "\n",
       "    .dataframe tbody tr th {\n",
       "        vertical-align: top;\n",
       "    }\n",
       "\n",
       "    .dataframe thead th {\n",
       "        text-align: right;\n",
       "    }\n",
       "</style>\n",
       "<table border=\"1\" class=\"dataframe\">\n",
       "  <thead>\n",
       "    <tr style=\"text-align: right;\">\n",
       "      <th></th>\n",
       "      <th>horizon (days)</th>\n",
       "      <th>amount</th>\n",
       "      <th>price_BUY</th>\n",
       "      <th>Volatility_Buy</th>\n",
       "      <th>inflation</th>\n",
       "      <th>ESG_ranking</th>\n",
       "      <th>EPS_ratio</th>\n",
       "      <th>NetProfitMargin_ratio</th>\n",
       "      <th>current_ratio</th>\n",
       "      <th>roa_ratio</th>\n",
       "      <th>roe_ratio</th>\n",
       "    </tr>\n",
       "  </thead>\n",
       "  <tbody>\n",
       "    <tr>\n",
       "      <th>0</th>\n",
       "      <td>2</td>\n",
       "      <td>100</td>\n",
       "      <td>55.551804</td>\n",
       "      <td>0.383666</td>\n",
       "      <td>1.96</td>\n",
       "      <td>12.0</td>\n",
       "      <td>3.73</td>\n",
       "      <td>3.01</td>\n",
       "      <td>1.49</td>\n",
       "      <td>8.69</td>\n",
       "      <td>26.69</td>\n",
       "    </tr>\n",
       "    <tr>\n",
       "      <th>1</th>\n",
       "      <td>330</td>\n",
       "      <td>15000</td>\n",
       "      <td>18.616749</td>\n",
       "      <td>0.322809</td>\n",
       "      <td>-0.20</td>\n",
       "      <td>26.3</td>\n",
       "      <td>1.26</td>\n",
       "      <td>15.70</td>\n",
       "      <td>0.92</td>\n",
       "      <td>0.67</td>\n",
       "      <td>5.54</td>\n",
       "    </tr>\n",
       "    <tr>\n",
       "      <th>2</th>\n",
       "      <td>7</td>\n",
       "      <td>3000</td>\n",
       "      <td>59.862297</td>\n",
       "      <td>0.238642</td>\n",
       "      <td>-0.20</td>\n",
       "      <td>19.8</td>\n",
       "      <td>5.64</td>\n",
       "      <td>15.68</td>\n",
       "      <td>1.91</td>\n",
       "      <td>3.39</td>\n",
       "      <td>25.78</td>\n",
       "    </tr>\n",
       "    <tr>\n",
       "      <th>3</th>\n",
       "      <td>5</td>\n",
       "      <td>20000</td>\n",
       "      <td>38.216724</td>\n",
       "      <td>0.428559</td>\n",
       "      <td>-0.20</td>\n",
       "      <td>12.9</td>\n",
       "      <td>3.27</td>\n",
       "      <td>3.17</td>\n",
       "      <td>1.60</td>\n",
       "      <td>4.41</td>\n",
       "      <td>11.35</td>\n",
       "    </tr>\n",
       "    <tr>\n",
       "      <th>4</th>\n",
       "      <td>360</td>\n",
       "      <td>15000</td>\n",
       "      <td>51.869335</td>\n",
       "      <td>0.194612</td>\n",
       "      <td>-0.50</td>\n",
       "      <td>27.9</td>\n",
       "      <td>5.46</td>\n",
       "      <td>19.91</td>\n",
       "      <td>0.99</td>\n",
       "      <td>0.81</td>\n",
       "      <td>8.91</td>\n",
       "    </tr>\n",
       "    <tr>\n",
       "      <th>...</th>\n",
       "      <td>...</td>\n",
       "      <td>...</td>\n",
       "      <td>...</td>\n",
       "      <td>...</td>\n",
       "      <td>...</td>\n",
       "      <td>...</td>\n",
       "      <td>...</td>\n",
       "      <td>...</td>\n",
       "      <td>...</td>\n",
       "      <td>...</td>\n",
       "      <td>...</td>\n",
       "    </tr>\n",
       "    <tr>\n",
       "      <th>199995</th>\n",
       "      <td>120</td>\n",
       "      <td>500</td>\n",
       "      <td>28.741871</td>\n",
       "      <td>0.224747</td>\n",
       "      <td>-0.50</td>\n",
       "      <td>30.6</td>\n",
       "      <td>2.70</td>\n",
       "      <td>2.98</td>\n",
       "      <td>1.22</td>\n",
       "      <td>2.53</td>\n",
       "      <td>11.97</td>\n",
       "    </tr>\n",
       "    <tr>\n",
       "      <th>199996</th>\n",
       "      <td>150</td>\n",
       "      <td>1500</td>\n",
       "      <td>28.542963</td>\n",
       "      <td>0.242287</td>\n",
       "      <td>-0.15</td>\n",
       "      <td>30.6</td>\n",
       "      <td>1.83</td>\n",
       "      <td>1.94</td>\n",
       "      <td>1.25</td>\n",
       "      <td>1.80</td>\n",
       "      <td>7.46</td>\n",
       "    </tr>\n",
       "    <tr>\n",
       "      <th>199997</th>\n",
       "      <td>270</td>\n",
       "      <td>1500</td>\n",
       "      <td>58.351299</td>\n",
       "      <td>0.253744</td>\n",
       "      <td>-0.20</td>\n",
       "      <td>27.9</td>\n",
       "      <td>5.80</td>\n",
       "      <td>20.86</td>\n",
       "      <td>1.04</td>\n",
       "      <td>0.89</td>\n",
       "      <td>8.66</td>\n",
       "    </tr>\n",
       "    <tr>\n",
       "      <th>199998</th>\n",
       "      <td>90</td>\n",
       "      <td>2000</td>\n",
       "      <td>30.840000</td>\n",
       "      <td>0.191505</td>\n",
       "      <td>-0.50</td>\n",
       "      <td>28.5</td>\n",
       "      <td>3.08</td>\n",
       "      <td>4.83</td>\n",
       "      <td>1.23</td>\n",
       "      <td>3.65</td>\n",
       "      <td>9.24</td>\n",
       "    </tr>\n",
       "    <tr>\n",
       "      <th>199999</th>\n",
       "      <td>80</td>\n",
       "      <td>4000</td>\n",
       "      <td>17.665504</td>\n",
       "      <td>0.525184</td>\n",
       "      <td>-0.20</td>\n",
       "      <td>30.0</td>\n",
       "      <td>-1.31</td>\n",
       "      <td>-3.43</td>\n",
       "      <td>0.75</td>\n",
       "      <td>-0.08</td>\n",
       "      <td>-2.10</td>\n",
       "    </tr>\n",
       "  </tbody>\n",
       "</table>\n",
       "<p>200000 rows × 11 columns</p>\n",
       "</div>"
      ],
      "text/plain": [
       "        horizon (days)  amount  price_BUY  Volatility_Buy  inflation  \\\n",
       "0                    2     100  55.551804        0.383666       1.96   \n",
       "1                  330   15000  18.616749        0.322809      -0.20   \n",
       "2                    7    3000  59.862297        0.238642      -0.20   \n",
       "3                    5   20000  38.216724        0.428559      -0.20   \n",
       "4                  360   15000  51.869335        0.194612      -0.50   \n",
       "...                ...     ...        ...             ...        ...   \n",
       "199995             120     500  28.741871        0.224747      -0.50   \n",
       "199996             150    1500  28.542963        0.242287      -0.15   \n",
       "199997             270    1500  58.351299        0.253744      -0.20   \n",
       "199998              90    2000  30.840000        0.191505      -0.50   \n",
       "199999              80    4000  17.665504        0.525184      -0.20   \n",
       "\n",
       "        ESG_ranking  EPS_ratio  NetProfitMargin_ratio  current_ratio  \\\n",
       "0              12.0       3.73                   3.01           1.49   \n",
       "1              26.3       1.26                  15.70           0.92   \n",
       "2              19.8       5.64                  15.68           1.91   \n",
       "3              12.9       3.27                   3.17           1.60   \n",
       "4              27.9       5.46                  19.91           0.99   \n",
       "...             ...        ...                    ...            ...   \n",
       "199995         30.6       2.70                   2.98           1.22   \n",
       "199996         30.6       1.83                   1.94           1.25   \n",
       "199997         27.9       5.80                  20.86           1.04   \n",
       "199998         28.5       3.08                   4.83           1.23   \n",
       "199999         30.0      -1.31                  -3.43           0.75   \n",
       "\n",
       "        roa_ratio  roe_ratio  \n",
       "0            8.69      26.69  \n",
       "1            0.67       5.54  \n",
       "2            3.39      25.78  \n",
       "3            4.41      11.35  \n",
       "4            0.81       8.91  \n",
       "...           ...        ...  \n",
       "199995       2.53      11.97  \n",
       "199996       1.80       7.46  \n",
       "199997       0.89       8.66  \n",
       "199998       3.65       9.24  \n",
       "199999      -0.08      -2.10  \n",
       "\n",
       "[200000 rows x 11 columns]"
      ]
     },
     "execution_count": 91,
     "metadata": {},
     "output_type": "execute_result"
    }
   ],
   "source": [
    "Invest3"
   ]
  },
  {
   "cell_type": "code",
   "execution_count": 92,
   "id": "4e021ab6-95e6-4625-a4d6-cf533613e477",
   "metadata": {},
   "outputs": [],
   "source": [
    "Invest4 = Invest3.drop(['NetProfitMargin_ratio'], axis = 1)"
   ]
  },
  {
   "cell_type": "code",
   "execution_count": 93,
   "id": "ef9e04fe-630e-4e40-98b8-67e14cd05cd8",
   "metadata": {},
   "outputs": [
    {
     "data": {
      "text/plain": [
       "(200000, 10)"
      ]
     },
     "execution_count": 93,
     "metadata": {},
     "output_type": "execute_result"
    }
   ],
   "source": [
    "Invest4.shape"
   ]
  },
  {
   "cell_type": "code",
   "execution_count": 94,
   "id": "779884f9-4986-422f-a276-3dac1efe8ae1",
   "metadata": {},
   "outputs": [],
   "source": [
    "\n",
    "Invest_A = Invest3.iloc[:,0:12].values\n"
   ]
  },
  {
   "cell_type": "code",
   "execution_count": 95,
   "id": "7c528996-ef81-4eb4-ad86-7c2440b294ca",
   "metadata": {},
   "outputs": [
    {
     "data": {
      "text/plain": [
       "array([[ 2.00000000e+00,  1.00000000e+02,  5.55518036e+01,\n",
       "         3.83665561e-01,  1.96000000e+00,  1.20000000e+01,\n",
       "         3.73000000e+00,  3.01000000e+00,  1.49000000e+00,\n",
       "         8.69000000e+00,  2.66900000e+01],\n",
       "       [ 3.30000000e+02,  1.50000000e+04,  1.86167488e+01,\n",
       "         3.22809147e-01, -2.00000000e-01,  2.63000000e+01,\n",
       "         1.26000000e+00,  1.57000000e+01,  9.20000000e-01,\n",
       "         6.70000000e-01,  5.54000000e+00],\n",
       "       [ 7.00000000e+00,  3.00000000e+03,  5.98622971e+01,\n",
       "         2.38641964e-01, -2.00000000e-01,  1.98000000e+01,\n",
       "         5.64000000e+00,  1.56800000e+01,  1.91000000e+00,\n",
       "         3.39000000e+00,  2.57800000e+01],\n",
       "       [ 5.00000000e+00,  2.00000000e+04,  3.82167244e+01,\n",
       "         4.28559475e-01, -2.00000000e-01,  1.29000000e+01,\n",
       "         3.27000000e+00,  3.17000000e+00,  1.60000000e+00,\n",
       "         4.41000000e+00,  1.13500000e+01]])"
      ]
     },
     "execution_count": 95,
     "metadata": {},
     "output_type": "execute_result"
    }
   ],
   "source": [
    "Invest_A[0:4]"
   ]
  },
  {
   "cell_type": "code",
   "execution_count": 96,
   "id": "496a8329-1ae9-40a5-b796-cce3680ba0c4",
   "metadata": {},
   "outputs": [
    {
     "data": {
      "text/plain": [
       "(200000, 11)"
      ]
     },
     "execution_count": 96,
     "metadata": {},
     "output_type": "execute_result"
    }
   ],
   "source": [
    "Invest_A.shape"
   ]
  },
  {
   "cell_type": "code",
   "execution_count": 97,
   "id": "8e04059b-f8ae-4c33-b9e0-cd3f6c12360b",
   "metadata": {},
   "outputs": [],
   "source": [
    "from sklearn.model_selection import train_test_split\n",
    "\n",
    "Invest_train, Invest_test, Return_train, Return_test = train_test_split(Invest_A, Return_A, test_size = 0.25, random_state = 10)"
   ]
  },
  {
   "cell_type": "code",
   "execution_count": 98,
   "id": "2be25c37-d1fc-4666-88a6-1162ad341591",
   "metadata": {},
   "outputs": [
    {
     "data": {
      "text/plain": [
       "(150000, 11)"
      ]
     },
     "execution_count": 98,
     "metadata": {},
     "output_type": "execute_result"
    }
   ],
   "source": [
    "Invest_train.shape"
   ]
  },
  {
   "cell_type": "code",
   "execution_count": 99,
   "id": "c41286fd-b8d6-4aa2-a80a-d6105d9e393b",
   "metadata": {},
   "outputs": [
    {
     "data": {
      "text/plain": [
       "(150000,)"
      ]
     },
     "execution_count": 99,
     "metadata": {},
     "output_type": "execute_result"
    }
   ],
   "source": [
    "Return_train.shape"
   ]
  },
  {
   "cell_type": "code",
   "execution_count": 100,
   "id": "d671603c-83dc-4e49-9dfb-d8014f2e47aa",
   "metadata": {},
   "outputs": [
    {
     "data": {
      "text/plain": [
       "array([28.5, 29.7, 27.3, 27.4, 31.6])"
      ]
     },
     "execution_count": 100,
     "metadata": {},
     "output_type": "execute_result"
    }
   ],
   "source": [
    "Return_train[0:5]"
   ]
  },
  {
   "cell_type": "code",
   "execution_count": null,
   "id": "91a0d483-628a-4ddb-8319-1edfe37531ad",
   "metadata": {},
   "outputs": [],
   "source": []
  },
  {
   "cell_type": "code",
   "execution_count": 103,
   "id": "00bd08f5-2583-4814-8140-964889e52942",
   "metadata": {},
   "outputs": [
    {
     "data": {
      "text/plain": [
       "array([28.5, 29.7, 27.3, 27.4, 31.6])"
      ]
     },
     "execution_count": 103,
     "metadata": {},
     "output_type": "execute_result"
    }
   ],
   "source": [
    "Return_train[0:5]\n"
   ]
  },
  {
   "cell_type": "code",
   "execution_count": null,
   "id": "4b4ef1b0-949b-4839-9595-f487efe20468",
   "metadata": {},
   "outputs": [],
   "source": []
  },
  {
   "cell_type": "code",
   "execution_count": null,
   "id": "7128f106-4480-47ba-99b3-392a55beb660",
   "metadata": {},
   "outputs": [],
   "source": []
  },
  {
   "cell_type": "code",
   "execution_count": 104,
   "id": "3bb85095-ac01-46eb-bbc3-82b5f952a702",
   "metadata": {},
   "outputs": [
    {
     "data": {
      "text/plain": [
       "array([28.5, 29.7, 27.3, ..., 25.1, 27.4, 31.6])"
      ]
     },
     "execution_count": 104,
     "metadata": {},
     "output_type": "execute_result"
    }
   ],
   "source": [
    "Return_train"
   ]
  },
  {
   "cell_type": "code",
   "execution_count": 105,
   "id": "473877da-0b6b-48f6-a4cf-9795d69bf239",
   "metadata": {},
   "outputs": [],
   "source": [
    "#from sklearn.tree import DecisionTreeRegressor\n",
    "\n",
    "#RegDec = DecisionTreeRegressor(min_samples_split = 5,random_state = 10, max_depth= 3)\n",
    "\n"
   ]
  },
  {
   "cell_type": "code",
   "execution_count": 106,
   "id": "98a3289c-b46b-485f-9e67-b75af62c16c8",
   "metadata": {},
   "outputs": [],
   "source": [
    "#RegDec.fit(Invest_train, Return_train)"
   ]
  },
  {
   "cell_type": "code",
   "execution_count": 107,
   "id": "88900156-5402-4d80-ab43-d63098635345",
   "metadata": {},
   "outputs": [],
   "source": [
    "#Treepredict = RegDec.predict(Invest_test)"
   ]
  },
  {
   "cell_type": "code",
   "execution_count": 108,
   "id": "b4f88761-bbdd-4ca1-91a2-ab1b179a8a73",
   "metadata": {},
   "outputs": [],
   "source": [
    "#RegDec.get_params()"
   ]
  },
  {
   "cell_type": "code",
   "execution_count": 109,
   "id": "d42169a4-182e-4683-a695-6a369ed99881",
   "metadata": {},
   "outputs": [],
   "source": [
    "#from sklearn.metrics import mean_squared_error\n",
    "\n",
    "#MSE= mean_squared_error(Return_test, Treepredict)"
   ]
  },
  {
   "cell_type": "code",
   "execution_count": null,
   "id": "fe035535-74bc-44e7-bf59-1dc0db6aa4a4",
   "metadata": {},
   "outputs": [],
   "source": []
  },
  {
   "cell_type": "code",
   "execution_count": 110,
   "id": "23a9325e-5b2b-4041-a128-258a70178356",
   "metadata": {},
   "outputs": [],
   "source": [
    "# new plan  is to strip invest2 of variables to deduce root. "
   ]
  },
  {
   "cell_type": "code",
   "execution_count": 111,
   "id": "372bae30-99bb-40bf-84a0-00b5ed611a9a",
   "metadata": {},
   "outputs": [],
   "source": [
    "#MSE"
   ]
  },
  {
   "cell_type": "code",
   "execution_count": 112,
   "id": "778ff06e-a8e0-45c7-97ad-63e1b7510717",
   "metadata": {},
   "outputs": [],
   "source": [
    "#MSE\n"
   ]
  },
  {
   "cell_type": "code",
   "execution_count": 113,
   "id": "51682f1f-9cac-4bcf-b769-5f268bd91985",
   "metadata": {},
   "outputs": [],
   "source": [
    "from sklearn.tree import DecisionTreeRegressor, plot_tree\n",
    "\n",
    "\n",
    "#RegDec = DecisionTreeRegressor(min_samples_split = 5,random_state = 10,ccp_alpha = 8000, max_leaf_nodes=3, min_impurity_decrease = 5, max_depth = 5)\n",
    "RegDec = DecisionTreeRegressor(random_state = 0)\n",
    "\n",
    "test  = Invest_train[0:500]\n",
    "\n",
    "test1 = test"
   ]
  },
  {
   "cell_type": "code",
   "execution_count": null,
   "id": "70d0e6f8-d254-4b56-b159-602c7a28b2ee",
   "metadata": {},
   "outputs": [],
   "source": []
  },
  {
   "cell_type": "code",
   "execution_count": 114,
   "id": "c58bcf01-7434-4c87-a7de-fc26bf75f272",
   "metadata": {},
   "outputs": [
    {
     "data": {
      "text/plain": [
       "(150000,)"
      ]
     },
     "execution_count": 114,
     "metadata": {},
     "output_type": "execute_result"
    }
   ],
   "source": [
    "Return_train.shape"
   ]
  },
  {
   "cell_type": "code",
   "execution_count": 115,
   "id": "0b5a0595-49b2-47ce-b01f-baa4a1849a1b",
   "metadata": {},
   "outputs": [
    {
     "data": {
      "text/plain": [
       "(150000, 11)"
      ]
     },
     "execution_count": 115,
     "metadata": {},
     "output_type": "execute_result"
    }
   ],
   "source": [
    "Invest_train.shape"
   ]
  },
  {
   "cell_type": "code",
   "execution_count": 116,
   "id": "e332a0fa-704c-4e56-94a8-f1428647c075",
   "metadata": {},
   "outputs": [
    {
     "data": {
      "text/html": [
       "<style>#sk-container-id-2 {\n",
       "  /* Definition of color scheme common for light and dark mode */\n",
       "  --sklearn-color-text: black;\n",
       "  --sklearn-color-line: gray;\n",
       "  /* Definition of color scheme for unfitted estimators */\n",
       "  --sklearn-color-unfitted-level-0: #fff5e6;\n",
       "  --sklearn-color-unfitted-level-1: #f6e4d2;\n",
       "  --sklearn-color-unfitted-level-2: #ffe0b3;\n",
       "  --sklearn-color-unfitted-level-3: chocolate;\n",
       "  /* Definition of color scheme for fitted estimators */\n",
       "  --sklearn-color-fitted-level-0: #f0f8ff;\n",
       "  --sklearn-color-fitted-level-1: #d4ebff;\n",
       "  --sklearn-color-fitted-level-2: #b3dbfd;\n",
       "  --sklearn-color-fitted-level-3: cornflowerblue;\n",
       "\n",
       "  /* Specific color for light theme */\n",
       "  --sklearn-color-text-on-default-background: var(--sg-text-color, var(--theme-code-foreground, var(--jp-content-font-color1, black)));\n",
       "  --sklearn-color-background: var(--sg-background-color, var(--theme-background, var(--jp-layout-color0, white)));\n",
       "  --sklearn-color-border-box: var(--sg-text-color, var(--theme-code-foreground, var(--jp-content-font-color1, black)));\n",
       "  --sklearn-color-icon: #696969;\n",
       "\n",
       "  @media (prefers-color-scheme: dark) {\n",
       "    /* Redefinition of color scheme for dark theme */\n",
       "    --sklearn-color-text-on-default-background: var(--sg-text-color, var(--theme-code-foreground, var(--jp-content-font-color1, white)));\n",
       "    --sklearn-color-background: var(--sg-background-color, var(--theme-background, var(--jp-layout-color0, #111)));\n",
       "    --sklearn-color-border-box: var(--sg-text-color, var(--theme-code-foreground, var(--jp-content-font-color1, white)));\n",
       "    --sklearn-color-icon: #878787;\n",
       "  }\n",
       "}\n",
       "\n",
       "#sk-container-id-2 {\n",
       "  color: var(--sklearn-color-text);\n",
       "}\n",
       "\n",
       "#sk-container-id-2 pre {\n",
       "  padding: 0;\n",
       "}\n",
       "\n",
       "#sk-container-id-2 input.sk-hidden--visually {\n",
       "  border: 0;\n",
       "  clip: rect(1px 1px 1px 1px);\n",
       "  clip: rect(1px, 1px, 1px, 1px);\n",
       "  height: 1px;\n",
       "  margin: -1px;\n",
       "  overflow: hidden;\n",
       "  padding: 0;\n",
       "  position: absolute;\n",
       "  width: 1px;\n",
       "}\n",
       "\n",
       "#sk-container-id-2 div.sk-dashed-wrapped {\n",
       "  border: 1px dashed var(--sklearn-color-line);\n",
       "  margin: 0 0.4em 0.5em 0.4em;\n",
       "  box-sizing: border-box;\n",
       "  padding-bottom: 0.4em;\n",
       "  background-color: var(--sklearn-color-background);\n",
       "}\n",
       "\n",
       "#sk-container-id-2 div.sk-container {\n",
       "  /* jupyter's `normalize.less` sets `[hidden] { display: none; }`\n",
       "     but bootstrap.min.css set `[hidden] { display: none !important; }`\n",
       "     so we also need the `!important` here to be able to override the\n",
       "     default hidden behavior on the sphinx rendered scikit-learn.org.\n",
       "     See: https://github.com/scikit-learn/scikit-learn/issues/21755 */\n",
       "  display: inline-block !important;\n",
       "  position: relative;\n",
       "}\n",
       "\n",
       "#sk-container-id-2 div.sk-text-repr-fallback {\n",
       "  display: none;\n",
       "}\n",
       "\n",
       "div.sk-parallel-item,\n",
       "div.sk-serial,\n",
       "div.sk-item {\n",
       "  /* draw centered vertical line to link estimators */\n",
       "  background-image: linear-gradient(var(--sklearn-color-text-on-default-background), var(--sklearn-color-text-on-default-background));\n",
       "  background-size: 2px 100%;\n",
       "  background-repeat: no-repeat;\n",
       "  background-position: center center;\n",
       "}\n",
       "\n",
       "/* Parallel-specific style estimator block */\n",
       "\n",
       "#sk-container-id-2 div.sk-parallel-item::after {\n",
       "  content: \"\";\n",
       "  width: 100%;\n",
       "  border-bottom: 2px solid var(--sklearn-color-text-on-default-background);\n",
       "  flex-grow: 1;\n",
       "}\n",
       "\n",
       "#sk-container-id-2 div.sk-parallel {\n",
       "  display: flex;\n",
       "  align-items: stretch;\n",
       "  justify-content: center;\n",
       "  background-color: var(--sklearn-color-background);\n",
       "  position: relative;\n",
       "}\n",
       "\n",
       "#sk-container-id-2 div.sk-parallel-item {\n",
       "  display: flex;\n",
       "  flex-direction: column;\n",
       "}\n",
       "\n",
       "#sk-container-id-2 div.sk-parallel-item:first-child::after {\n",
       "  align-self: flex-end;\n",
       "  width: 50%;\n",
       "}\n",
       "\n",
       "#sk-container-id-2 div.sk-parallel-item:last-child::after {\n",
       "  align-self: flex-start;\n",
       "  width: 50%;\n",
       "}\n",
       "\n",
       "#sk-container-id-2 div.sk-parallel-item:only-child::after {\n",
       "  width: 0;\n",
       "}\n",
       "\n",
       "/* Serial-specific style estimator block */\n",
       "\n",
       "#sk-container-id-2 div.sk-serial {\n",
       "  display: flex;\n",
       "  flex-direction: column;\n",
       "  align-items: center;\n",
       "  background-color: var(--sklearn-color-background);\n",
       "  padding-right: 1em;\n",
       "  padding-left: 1em;\n",
       "}\n",
       "\n",
       "\n",
       "/* Toggleable style: style used for estimator/Pipeline/ColumnTransformer box that is\n",
       "clickable and can be expanded/collapsed.\n",
       "- Pipeline and ColumnTransformer use this feature and define the default style\n",
       "- Estimators will overwrite some part of the style using the `sk-estimator` class\n",
       "*/\n",
       "\n",
       "/* Pipeline and ColumnTransformer style (default) */\n",
       "\n",
       "#sk-container-id-2 div.sk-toggleable {\n",
       "  /* Default theme specific background. It is overwritten whether we have a\n",
       "  specific estimator or a Pipeline/ColumnTransformer */\n",
       "  background-color: var(--sklearn-color-background);\n",
       "}\n",
       "\n",
       "/* Toggleable label */\n",
       "#sk-container-id-2 label.sk-toggleable__label {\n",
       "  cursor: pointer;\n",
       "  display: block;\n",
       "  width: 100%;\n",
       "  margin-bottom: 0;\n",
       "  padding: 0.5em;\n",
       "  box-sizing: border-box;\n",
       "  text-align: center;\n",
       "}\n",
       "\n",
       "#sk-container-id-2 label.sk-toggleable__label-arrow:before {\n",
       "  /* Arrow on the left of the label */\n",
       "  content: \"▸\";\n",
       "  float: left;\n",
       "  margin-right: 0.25em;\n",
       "  color: var(--sklearn-color-icon);\n",
       "}\n",
       "\n",
       "#sk-container-id-2 label.sk-toggleable__label-arrow:hover:before {\n",
       "  color: var(--sklearn-color-text);\n",
       "}\n",
       "\n",
       "/* Toggleable content - dropdown */\n",
       "\n",
       "#sk-container-id-2 div.sk-toggleable__content {\n",
       "  max-height: 0;\n",
       "  max-width: 0;\n",
       "  overflow: hidden;\n",
       "  text-align: left;\n",
       "  /* unfitted */\n",
       "  background-color: var(--sklearn-color-unfitted-level-0);\n",
       "}\n",
       "\n",
       "#sk-container-id-2 div.sk-toggleable__content.fitted {\n",
       "  /* fitted */\n",
       "  background-color: var(--sklearn-color-fitted-level-0);\n",
       "}\n",
       "\n",
       "#sk-container-id-2 div.sk-toggleable__content pre {\n",
       "  margin: 0.2em;\n",
       "  border-radius: 0.25em;\n",
       "  color: var(--sklearn-color-text);\n",
       "  /* unfitted */\n",
       "  background-color: var(--sklearn-color-unfitted-level-0);\n",
       "}\n",
       "\n",
       "#sk-container-id-2 div.sk-toggleable__content.fitted pre {\n",
       "  /* unfitted */\n",
       "  background-color: var(--sklearn-color-fitted-level-0);\n",
       "}\n",
       "\n",
       "#sk-container-id-2 input.sk-toggleable__control:checked~div.sk-toggleable__content {\n",
       "  /* Expand drop-down */\n",
       "  max-height: 200px;\n",
       "  max-width: 100%;\n",
       "  overflow: auto;\n",
       "}\n",
       "\n",
       "#sk-container-id-2 input.sk-toggleable__control:checked~label.sk-toggleable__label-arrow:before {\n",
       "  content: \"▾\";\n",
       "}\n",
       "\n",
       "/* Pipeline/ColumnTransformer-specific style */\n",
       "\n",
       "#sk-container-id-2 div.sk-label input.sk-toggleable__control:checked~label.sk-toggleable__label {\n",
       "  color: var(--sklearn-color-text);\n",
       "  background-color: var(--sklearn-color-unfitted-level-2);\n",
       "}\n",
       "\n",
       "#sk-container-id-2 div.sk-label.fitted input.sk-toggleable__control:checked~label.sk-toggleable__label {\n",
       "  background-color: var(--sklearn-color-fitted-level-2);\n",
       "}\n",
       "\n",
       "/* Estimator-specific style */\n",
       "\n",
       "/* Colorize estimator box */\n",
       "#sk-container-id-2 div.sk-estimator input.sk-toggleable__control:checked~label.sk-toggleable__label {\n",
       "  /* unfitted */\n",
       "  background-color: var(--sklearn-color-unfitted-level-2);\n",
       "}\n",
       "\n",
       "#sk-container-id-2 div.sk-estimator.fitted input.sk-toggleable__control:checked~label.sk-toggleable__label {\n",
       "  /* fitted */\n",
       "  background-color: var(--sklearn-color-fitted-level-2);\n",
       "}\n",
       "\n",
       "#sk-container-id-2 div.sk-label label.sk-toggleable__label,\n",
       "#sk-container-id-2 div.sk-label label {\n",
       "  /* The background is the default theme color */\n",
       "  color: var(--sklearn-color-text-on-default-background);\n",
       "}\n",
       "\n",
       "/* On hover, darken the color of the background */\n",
       "#sk-container-id-2 div.sk-label:hover label.sk-toggleable__label {\n",
       "  color: var(--sklearn-color-text);\n",
       "  background-color: var(--sklearn-color-unfitted-level-2);\n",
       "}\n",
       "\n",
       "/* Label box, darken color on hover, fitted */\n",
       "#sk-container-id-2 div.sk-label.fitted:hover label.sk-toggleable__label.fitted {\n",
       "  color: var(--sklearn-color-text);\n",
       "  background-color: var(--sklearn-color-fitted-level-2);\n",
       "}\n",
       "\n",
       "/* Estimator label */\n",
       "\n",
       "#sk-container-id-2 div.sk-label label {\n",
       "  font-family: monospace;\n",
       "  font-weight: bold;\n",
       "  display: inline-block;\n",
       "  line-height: 1.2em;\n",
       "}\n",
       "\n",
       "#sk-container-id-2 div.sk-label-container {\n",
       "  text-align: center;\n",
       "}\n",
       "\n",
       "/* Estimator-specific */\n",
       "#sk-container-id-2 div.sk-estimator {\n",
       "  font-family: monospace;\n",
       "  border: 1px dotted var(--sklearn-color-border-box);\n",
       "  border-radius: 0.25em;\n",
       "  box-sizing: border-box;\n",
       "  margin-bottom: 0.5em;\n",
       "  /* unfitted */\n",
       "  background-color: var(--sklearn-color-unfitted-level-0);\n",
       "}\n",
       "\n",
       "#sk-container-id-2 div.sk-estimator.fitted {\n",
       "  /* fitted */\n",
       "  background-color: var(--sklearn-color-fitted-level-0);\n",
       "}\n",
       "\n",
       "/* on hover */\n",
       "#sk-container-id-2 div.sk-estimator:hover {\n",
       "  /* unfitted */\n",
       "  background-color: var(--sklearn-color-unfitted-level-2);\n",
       "}\n",
       "\n",
       "#sk-container-id-2 div.sk-estimator.fitted:hover {\n",
       "  /* fitted */\n",
       "  background-color: var(--sklearn-color-fitted-level-2);\n",
       "}\n",
       "\n",
       "/* Specification for estimator info (e.g. \"i\" and \"?\") */\n",
       "\n",
       "/* Common style for \"i\" and \"?\" */\n",
       "\n",
       ".sk-estimator-doc-link,\n",
       "a:link.sk-estimator-doc-link,\n",
       "a:visited.sk-estimator-doc-link {\n",
       "  float: right;\n",
       "  font-size: smaller;\n",
       "  line-height: 1em;\n",
       "  font-family: monospace;\n",
       "  background-color: var(--sklearn-color-background);\n",
       "  border-radius: 1em;\n",
       "  height: 1em;\n",
       "  width: 1em;\n",
       "  text-decoration: none !important;\n",
       "  margin-left: 1ex;\n",
       "  /* unfitted */\n",
       "  border: var(--sklearn-color-unfitted-level-1) 1pt solid;\n",
       "  color: var(--sklearn-color-unfitted-level-1);\n",
       "}\n",
       "\n",
       ".sk-estimator-doc-link.fitted,\n",
       "a:link.sk-estimator-doc-link.fitted,\n",
       "a:visited.sk-estimator-doc-link.fitted {\n",
       "  /* fitted */\n",
       "  border: var(--sklearn-color-fitted-level-1) 1pt solid;\n",
       "  color: var(--sklearn-color-fitted-level-1);\n",
       "}\n",
       "\n",
       "/* On hover */\n",
       "div.sk-estimator:hover .sk-estimator-doc-link:hover,\n",
       ".sk-estimator-doc-link:hover,\n",
       "div.sk-label-container:hover .sk-estimator-doc-link:hover,\n",
       ".sk-estimator-doc-link:hover {\n",
       "  /* unfitted */\n",
       "  background-color: var(--sklearn-color-unfitted-level-3);\n",
       "  color: var(--sklearn-color-background);\n",
       "  text-decoration: none;\n",
       "}\n",
       "\n",
       "div.sk-estimator.fitted:hover .sk-estimator-doc-link.fitted:hover,\n",
       ".sk-estimator-doc-link.fitted:hover,\n",
       "div.sk-label-container:hover .sk-estimator-doc-link.fitted:hover,\n",
       ".sk-estimator-doc-link.fitted:hover {\n",
       "  /* fitted */\n",
       "  background-color: var(--sklearn-color-fitted-level-3);\n",
       "  color: var(--sklearn-color-background);\n",
       "  text-decoration: none;\n",
       "}\n",
       "\n",
       "/* Span, style for the box shown on hovering the info icon */\n",
       ".sk-estimator-doc-link span {\n",
       "  display: none;\n",
       "  z-index: 9999;\n",
       "  position: relative;\n",
       "  font-weight: normal;\n",
       "  right: .2ex;\n",
       "  padding: .5ex;\n",
       "  margin: .5ex;\n",
       "  width: min-content;\n",
       "  min-width: 20ex;\n",
       "  max-width: 50ex;\n",
       "  color: var(--sklearn-color-text);\n",
       "  box-shadow: 2pt 2pt 4pt #999;\n",
       "  /* unfitted */\n",
       "  background: var(--sklearn-color-unfitted-level-0);\n",
       "  border: .5pt solid var(--sklearn-color-unfitted-level-3);\n",
       "}\n",
       "\n",
       ".sk-estimator-doc-link.fitted span {\n",
       "  /* fitted */\n",
       "  background: var(--sklearn-color-fitted-level-0);\n",
       "  border: var(--sklearn-color-fitted-level-3);\n",
       "}\n",
       "\n",
       ".sk-estimator-doc-link:hover span {\n",
       "  display: block;\n",
       "}\n",
       "\n",
       "/* \"?\"-specific style due to the `<a>` HTML tag */\n",
       "\n",
       "#sk-container-id-2 a.estimator_doc_link {\n",
       "  float: right;\n",
       "  font-size: 1rem;\n",
       "  line-height: 1em;\n",
       "  font-family: monospace;\n",
       "  background-color: var(--sklearn-color-background);\n",
       "  border-radius: 1rem;\n",
       "  height: 1rem;\n",
       "  width: 1rem;\n",
       "  text-decoration: none;\n",
       "  /* unfitted */\n",
       "  color: var(--sklearn-color-unfitted-level-1);\n",
       "  border: var(--sklearn-color-unfitted-level-1) 1pt solid;\n",
       "}\n",
       "\n",
       "#sk-container-id-2 a.estimator_doc_link.fitted {\n",
       "  /* fitted */\n",
       "  border: var(--sklearn-color-fitted-level-1) 1pt solid;\n",
       "  color: var(--sklearn-color-fitted-level-1);\n",
       "}\n",
       "\n",
       "/* On hover */\n",
       "#sk-container-id-2 a.estimator_doc_link:hover {\n",
       "  /* unfitted */\n",
       "  background-color: var(--sklearn-color-unfitted-level-3);\n",
       "  color: var(--sklearn-color-background);\n",
       "  text-decoration: none;\n",
       "}\n",
       "\n",
       "#sk-container-id-2 a.estimator_doc_link.fitted:hover {\n",
       "  /* fitted */\n",
       "  background-color: var(--sklearn-color-fitted-level-3);\n",
       "}\n",
       "</style><div id=\"sk-container-id-2\" class=\"sk-top-container\"><div class=\"sk-text-repr-fallback\"><pre>DecisionTreeRegressor(random_state=0)</pre><b>In a Jupyter environment, please rerun this cell to show the HTML representation or trust the notebook. <br />On GitHub, the HTML representation is unable to render, please try loading this page with nbviewer.org.</b></div><div class=\"sk-container\" hidden><div class=\"sk-item\"><div class=\"sk-estimator fitted sk-toggleable\"><input class=\"sk-toggleable__control sk-hidden--visually\" id=\"sk-estimator-id-2\" type=\"checkbox\" checked><label for=\"sk-estimator-id-2\" class=\"sk-toggleable__label fitted sk-toggleable__label-arrow fitted\">&nbsp;&nbsp;DecisionTreeRegressor<a class=\"sk-estimator-doc-link fitted\" rel=\"noreferrer\" target=\"_blank\" href=\"https://scikit-learn.org/1.5/modules/generated/sklearn.tree.DecisionTreeRegressor.html\">?<span>Documentation for DecisionTreeRegressor</span></a><span class=\"sk-estimator-doc-link fitted\">i<span>Fitted</span></span></label><div class=\"sk-toggleable__content fitted\"><pre>DecisionTreeRegressor(random_state=0)</pre></div> </div></div></div></div>"
      ],
      "text/plain": [
       "DecisionTreeRegressor(random_state=0)"
      ]
     },
     "execution_count": 116,
     "metadata": {},
     "output_type": "execute_result"
    }
   ],
   "source": [
    "RegDec.fit(Invest_train[0:100], Return_train[0:100])"
   ]
  },
  {
   "cell_type": "code",
   "execution_count": 117,
   "id": "39ed82a1-0ce2-440f-98cc-d8e7a9883096",
   "metadata": {},
   "outputs": [],
   "source": [
    "Treepredict = RegDec.predict(Invest_test)"
   ]
  },
  {
   "cell_type": "code",
   "execution_count": 118,
   "id": "00ae1dff-c135-465d-acc7-c8e25ab10820",
   "metadata": {},
   "outputs": [
    {
     "data": {
      "text/plain": [
       "(50000, 11)"
      ]
     },
     "execution_count": 118,
     "metadata": {},
     "output_type": "execute_result"
    }
   ],
   "source": [
    "Invest_test.shape"
   ]
  },
  {
   "cell_type": "code",
   "execution_count": 119,
   "id": "9df1e2ac-b057-484c-bb8a-e34c92745e10",
   "metadata": {},
   "outputs": [
    {
     "data": {
      "text/plain": [
       "array([12. , 31.1, 30. , 12.9, 16.3, 26.9, 26.3, 27.3, 16.3, 22.3, 12.9,\n",
       "       14.8, 22.8, 26.9, 27.9, 14.8, 14.7, 22.3, 26.3, 25.1, 29.7, 24.8,\n",
       "       27.9, 27.9, 25.1, 25.1, 22.8, 31.6, 12.9, 16.3, 16.5, 27.9, 31.1,\n",
       "       14.8, 27.3, 16.5, 19.8, 31.6, 16.3, 12.9, 14.7, 26.3, 30. , 31.1,\n",
       "       12.9, 30. , 31.1, 22.8, 27.3, 22.8, 31.6, 25.1, 26.3, 27.3, 17.6,\n",
       "       27.4, 31.1, 31.6, 30. , 31.1, 14.8, 27.9, 16.3, 14.5, 12.9, 22.8,\n",
       "       16.3, 26.9, 17.6, 14.7, 26.3, 26.3, 29.7, 19.8, 24.8, 30. , 16.5,\n",
       "       12.9, 24.8, 26.9, 31.1, 19.8, 12. , 12.9, 14.8, 25.1, 14.5, 24.8,\n",
       "       12. , 28.5, 16.3, 26.3, 31.1, 27.9, 26.9, 14.5, 25.1, 16.5, 14.8,\n",
       "       12.9, 19.8, 31.1, 26.3, 17.6, 16.5, 25.1, 31.1, 16.5, 31.6, 19.8,\n",
       "       25.1, 29.7, 25.1, 31.6, 14.8, 16.3, 22.3, 16.3, 12.9, 25.1, 31.1,\n",
       "       20.5, 30. , 12.9, 12.9, 19.8, 14.8, 25.1, 27.3, 16.3, 19.8, 31.6,\n",
       "       12.9, 16.5, 16.5, 14.5, 26.9, 31.1, 29.7, 22.8, 17.6, 30.6, 27.9,\n",
       "       31.6, 28.5, 30.6, 14.5, 31.6, 29.7, 12.9, 26.9, 28.5, 30.6, 16.5,\n",
       "       24.8, 31.6, 16.3, 31.6, 29.7, 31.6, 19.8, 16.3, 27.9, 22.3, 30. ,\n",
       "       27.9, 12.9, 29.7, 16.5, 14.7, 14.8, 12.9, 27.3, 12.9, 30. , 27.9,\n",
       "       14.8, 22.3, 26.9, 27.9, 14.8, 19.8, 30. , 27.3, 26.9, 27.9, 12.9,\n",
       "       26.9, 16.3, 27.3, 16.5, 12. , 29.7, 31.6, 25.1, 31.6, 28.5, 27.3,\n",
       "       28.5, 16.5, 14.7, 24.8, 24.8, 16.5, 31.6, 12.9, 27.9, 12.9, 28.5,\n",
       "       28.5, 24.8, 14.7, 26.9, 20.5, 22.3, 16.3, 26.9, 16.5, 12.9, 12.9,\n",
       "       16.5, 25.1, 29.7, 12. , 24.8, 27.3, 27.9, 12.9, 22.3, 24.8, 17.6,\n",
       "       25.1, 14.8, 31.1, 17.6, 12. , 22.8, 22.3, 14.8, 31.6, 22.3, 22.3,\n",
       "       26.3, 24.8, 19.8, 16.5, 12.9, 14.7, 26.3, 12.9, 12.9, 19.8, 27.9,\n",
       "       30.6, 27.9, 25.1, 14.5, 26.3, 26.9, 26.9, 24.8, 31.6, 16.3, 12.9,\n",
       "       27.3, 22.3, 31.1, 27.9, 14.5, 27.3, 30.6, 19.8, 27.4, 31.1, 30.6,\n",
       "       29.7, 30. , 24.8, 12.9, 16.5, 19.8, 28.5, 12.9, 31.6, 12. , 25.1,\n",
       "       25.1, 24.8, 17.6, 22.3, 16.5, 22.3, 27.3, 29.7, 24.8, 25.1, 19.8,\n",
       "       22.8, 24.8, 27.9, 27.4, 22.3, 12. , 25.1, 19.8, 16.3, 16.5, 22.3,\n",
       "       14.5, 25.1, 12.9, 22.8, 16.5, 30.6, 25.1, 14.5, 14.8, 19.8, 12.9,\n",
       "       24.8, 30.6, 31.1, 16.5, 17.6, 25.1, 30.6, 22.3, 14.8, 12.9, 14.5,\n",
       "       31.6, 12.9, 22.3, 25.1, 31.6, 17.6, 27.9, 12.9, 27.3, 28.5, 26.9,\n",
       "       25.1, 26.9, 25.1, 22.3, 28.5, 28.5, 27.9, 31.1, 31.1, 26.9, 26.9,\n",
       "       25.1, 16.5, 29.7, 25.1, 24.8, 30.6, 14.5, 28.5, 19.8, 17.6, 16.3,\n",
       "       25.1, 14.8, 30.6, 28.5, 30. , 29.7, 19.8, 30.6, 14.5, 30. , 31.6,\n",
       "       12.9, 30.6, 14.8, 14.5, 27.3, 14.8, 12.9, 14.5, 12.9, 17.6, 27.9,\n",
       "       14.8, 26.3, 22.3, 16.5, 12.9, 19.8, 16.5, 12.9, 30.6, 16.3, 16.3,\n",
       "       30.6, 27.9, 28.5, 31.1, 30.6, 12.9, 26.9, 28.5, 27.9, 27.9, 27.3,\n",
       "       28.5, 14.8, 30. , 17.6, 16.5, 28.5, 17.6, 31.1, 25.1, 26.3, 14.5,\n",
       "       14.7, 12. , 20.5, 27.3, 31.6, 25.1, 31.6, 12.9, 31.1, 14.5, 16.5,\n",
       "       27.9, 22.3, 12.9, 31.6, 29.7, 16.5, 27.9, 19.8, 28.5, 22.3, 30.6,\n",
       "       14.5, 29.7, 16.3, 28.5, 29.7, 26.9, 27.3, 24.8, 28.5, 17.6, 31.1,\n",
       "       14.8, 14.8, 27.9, 12.9, 22.8, 30.6, 28.5, 22.8, 17.6, 25.1, 12.9,\n",
       "       12. , 19.8, 27.3, 12.9, 24.8, 25.1, 28.5, 27.4, 14.5, 16.3, 12.9,\n",
       "       14.8, 27.4, 30. , 27.9, 14.8, 31.6, 28.5, 30.6, 25.1, 14.8, 14.5,\n",
       "       14.8, 30. , 22.8, 14.8, 22.3, 30. , 19.8, 25.1, 22.3, 12.9, 26.3,\n",
       "       25.1, 31.6, 22.8, 28.5, 17.6, 14.8, 26.9, 30.6, 12. , 30.6, 12.9,\n",
       "       12.9, 30. , 25.1, 17.6, 26.3, 30.6, 14.7, 26.3, 14.8, 29.7, 30.6,\n",
       "       31.1, 12. , 27.3, 26.3, 27.9, 12.9, 25.1, 24.8, 22.8, 31.6, 31.6,\n",
       "       29.7, 30.6, 30. , 14.5, 20.5, 29.7, 16.5, 22.8, 22.3, 12.9, 22.3,\n",
       "       30.6, 29.7, 29.7, 16.3, 22.3, 24.8, 31.6, 14.7, 30. , 12.9, 28.5,\n",
       "       30. , 29.7, 29.7, 12. , 30. , 12. , 12.9, 24.8, 27.3, 26.3, 25.1,\n",
       "       25.1, 31.6, 24.8, 25.1, 14.8, 14.7, 27.3, 17.6, 22.3, 25.1, 26.9,\n",
       "       27.4, 22.3, 22.3, 19.8, 12.9, 14.8, 30. , 30.6, 16.3, 17.6, 30. ,\n",
       "       28.5, 25.1, 14.8, 27.9, 30. , 16.3, 22.8, 28.5, 12.9, 25.1, 22.3,\n",
       "       14.8, 28.5, 24.8, 16.5, 17.6, 27.9, 26.9, 31.6, 12.9, 25.1, 26.3,\n",
       "       25.1, 24.8, 30. , 16.3, 27.9, 12. , 16.5, 12.9, 19.8, 22.8, 30.6,\n",
       "       14.5, 27.9, 12.9, 24.8, 22.3, 28.5, 31.1, 12.9, 30. , 27.3, 12.9,\n",
       "       28.5, 29.7, 19.8, 14.8, 25.1, 14.8, 16.3, 19.8, 22.8, 26.9, 30. ,\n",
       "       17.6, 25.1, 12.9, 19.8, 17.6, 22.3, 14.8, 14.7, 14.7, 28.5, 27.9,\n",
       "       27.3, 16.5, 26.3, 16.3, 31.1, 14.7, 14.8, 25.1, 25.1, 28.5, 28.5,\n",
       "       12.9, 24.8, 22.3, 27.3, 31.1, 27.9, 29.7, 31.6, 17.6, 16.3, 25.1,\n",
       "       30.6, 22.3, 27.9, 30. , 28.5, 29.7, 27.9, 25.1, 20.5, 28.5, 14.7,\n",
       "       12. , 27.9, 14.8, 22.3, 27.4, 25.1, 30.6, 27.9, 12.9, 14.5, 14.5,\n",
       "       17.6, 12.9, 22.3, 19.8, 30. , 25.1, 27.9, 22.8, 19.8, 26.9, 29.7,\n",
       "       19.8, 14.8, 16.5, 27.9, 31.1, 25.1, 14.8, 30. , 31.6, 26.9, 12.9,\n",
       "       28.5, 26.3, 16.3, 30. , 12.9, 12.9, 30.6, 12. , 29.7, 30.6, 25.1,\n",
       "       16.3, 27.9, 28.5, 27.3, 12.9, 16.3, 14.7, 16.5, 25.1, 29.7, 14.8,\n",
       "       16.3, 14.8, 14.8, 20.5, 12.9, 31.1, 31.6, 27.9, 31.1, 12.9, 26.9,\n",
       "       16.3, 27.9, 22.3, 16.5, 12.9, 30.6, 12.9, 30. , 24.8, 26.3, 14.8,\n",
       "       12.9, 27.9, 16.5, 25.1, 14.5, 30. , 31.6, 25.1, 26.3, 30.6, 26.9,\n",
       "       17.6, 28.5, 22.8, 22.3, 22.3, 25.1, 26.9, 14.7, 14.7, 16.5, 27.9,\n",
       "       12.9, 16.3, 30.6, 14.8, 31.1, 14.8, 16.3, 12.9, 19.8, 22.8, 14.5,\n",
       "       26.9, 30. , 30. , 31.6, 30.6, 31.1, 30.6, 14.7, 31.6, 29.7, 27.9,\n",
       "       14.7, 25.1, 30.6, 14.7, 19.8, 25.1, 12. , 22.3, 17.6, 26.9, 12. ,\n",
       "       12.9, 31.1, 12.9, 28.5, 16.3, 27.9, 28.5, 27.9, 14.5, 25.1, 12.9,\n",
       "       26.9, 30.6, 14.7, 22.3, 14.8, 22.8, 14.8, 24.8, 30. , 27.9, 29.7,\n",
       "       29.7, 12.9, 31.1, 14.7, 16.5, 30.6, 31.6, 12.9, 16.5, 26.3, 22.3,\n",
       "       12.9, 31.1, 27.3, 12.9, 31.1, 14.8, 12.9, 30.6, 26.9, 14.8, 12. ,\n",
       "       14.8, 14.7, 28.5, 31.6, 14.5, 31.1, 30.6, 25.1, 30. , 27.4, 31.1,\n",
       "       27.9, 27.9, 27.4, 22.8, 29.7, 14.8, 27.9, 24.8, 27.9, 12. , 26.9,\n",
       "       22.3, 31.6, 25.1, 29.7, 22.8, 12.9, 27.4, 22.8, 26.9, 29.7, 28.5,\n",
       "       12.9, 26.9, 31.1, 16.5, 14.8, 12.9, 30.6, 12.9, 14.7, 26.3, 17.6,\n",
       "       27.3, 19.8, 28.5, 29.7, 28.5, 17.6, 30.6, 31.1, 27.3, 29.7, 14.8,\n",
       "       25.1, 12. , 31.1, 24.8, 22.8, 27.9, 14.7, 31.1, 27.9, 30. , 31.1,\n",
       "       31.1, 17.6, 29.7, 22.3, 12.9, 30.6, 29.7, 22.3, 30. , 31.1, 29.7,\n",
       "       16.3, 12. , 22.3, 24.8, 25.1, 24.8, 30. , 12.9, 22.8, 26.3, 30. ,\n",
       "       30.6, 14.7, 19.8, 27.9, 30.6, 14.8, 22.3, 29.7, 12.9, 16.3, 12.9,\n",
       "       12. , 22.3, 28.5, 16.3, 12.9, 19.8, 22.3, 25.1, 16.3, 27.3, 27.4,\n",
       "       25.1, 17.6, 12.9, 26.9, 26.9, 27.9, 27.9, 17.6, 16.3, 14.5, 26.9,\n",
       "       12.9, 25.1, 27.9, 30.6, 25.1, 30.6, 12. , 31.6, 30.6, 27.9, 17.6,\n",
       "       28.5, 26.9, 22.8, 30.6, 20.5, 16.5, 24.8, 16.5, 22.8, 12.9])"
      ]
     },
     "execution_count": 119,
     "metadata": {},
     "output_type": "execute_result"
    }
   ],
   "source": [
    "Treepredict[1001:2001]"
   ]
  },
  {
   "cell_type": "code",
   "execution_count": 122,
   "id": "d4204c48-ff7c-4442-98bf-f24708ab1ad1",
   "metadata": {},
   "outputs": [
    {
     "data": {
      "text/plain": [
       "(50000,)"
      ]
     },
     "execution_count": 122,
     "metadata": {},
     "output_type": "execute_result"
    }
   ],
   "source": [
    "Treepredict.shape"
   ]
  },
  {
   "cell_type": "code",
   "execution_count": 123,
   "id": "295a2314-3ed1-4211-99c8-4cce8d9306f1",
   "metadata": {},
   "outputs": [
    {
     "data": {
      "text/plain": [
       "array([12. , 16.5, 22.3, ..., 22.3, 12. , 17.6])"
      ]
     },
     "execution_count": 123,
     "metadata": {},
     "output_type": "execute_result"
    }
   ],
   "source": [
    "Treepredict"
   ]
  },
  {
   "cell_type": "code",
   "execution_count": 459,
   "id": "1076c64c-a987-47c1-afd5-2da409b269b6",
   "metadata": {},
   "outputs": [
    {
     "ename": "SyntaxError",
     "evalue": "invalid syntax (279602953.py, line 1)",
     "output_type": "error",
     "traceback": [
      "\u001b[0;36m  Cell \u001b[0;32mIn[459], line 1\u001b[0;36m\u001b[0m\n\u001b[0;31m    Invest_test[]\u001b[0m\n\u001b[0m                ^\u001b[0m\n\u001b[0;31mSyntaxError\u001b[0m\u001b[0;31m:\u001b[0m invalid syntax\n"
     ]
    }
   ],
   "source": []
  },
  {
   "cell_type": "code",
   "execution_count": 124,
   "id": "201d87f4-c29f-4b77-bf84-7af8f6b6a29c",
   "metadata": {},
   "outputs": [
    {
     "data": {
      "text/plain": [
       "array([12. , 16.5, 22.3, ..., 22.3, 12. , 17.6])"
      ]
     },
     "execution_count": 124,
     "metadata": {},
     "output_type": "execute_result"
    }
   ],
   "source": [
    "Treepredict\n",
    "#RegDec.get_params()"
   ]
  },
  {
   "cell_type": "code",
   "execution_count": null,
   "id": "18d719dc-e5e1-42c4-b8d3-28568aa2b5df",
   "metadata": {},
   "outputs": [],
   "source": []
  },
  {
   "cell_type": "code",
   "execution_count": 125,
   "id": "9e18d527-be96-49a7-abaa-4fa0e45fcb31",
   "metadata": {},
   "outputs": [
    {
     "name": "stdout",
     "output_type": "stream",
     "text": [
      "[12.  16.5 22.3 ... 22.3 12.  17.6]\n"
     ]
    }
   ],
   "source": [
    "print(Treepredict)"
   ]
  },
  {
   "cell_type": "code",
   "execution_count": 126,
   "id": "e9c6ffb6-39bf-4360-99ef-0e53858bbfeb",
   "metadata": {},
   "outputs": [],
   "source": [
    "from sklearn.metrics import mean_squared_error\n",
    "\n",
    "MSE= mean_squared_error(Return_test, Treepredict)"
   ]
  },
  {
   "cell_type": "code",
   "execution_count": 127,
   "id": "a53d7235-96b8-481e-96eb-4a2253e87156",
   "metadata": {},
   "outputs": [
    {
     "data": {
      "text/plain": [
       "38.263588110337565"
      ]
     },
     "execution_count": 127,
     "metadata": {},
     "output_type": "execute_result"
    }
   ],
   "source": [
    "Invest_train[0].mean()"
   ]
  },
  {
   "cell_type": "code",
   "execution_count": 128,
   "id": "e2fa001b-499a-44ae-880a-da13a55406d6",
   "metadata": {},
   "outputs": [
    {
     "data": {
      "text/plain": [
       "0.029598000000000048"
      ]
     },
     "execution_count": 128,
     "metadata": {},
     "output_type": "execute_result"
    }
   ],
   "source": [
    "MSE"
   ]
  },
  {
   "cell_type": "code",
   "execution_count": 129,
   "id": "494eae25-f0da-48a2-b150-8e97abf09943",
   "metadata": {},
   "outputs": [
    {
     "data": {
      "text/plain": [
       "{'ccp_alpha': 0.0,\n",
       " 'criterion': 'squared_error',\n",
       " 'max_depth': None,\n",
       " 'max_features': None,\n",
       " 'max_leaf_nodes': None,\n",
       " 'min_impurity_decrease': 0.0,\n",
       " 'min_samples_leaf': 1,\n",
       " 'min_samples_split': 2,\n",
       " 'min_weight_fraction_leaf': 0.0,\n",
       " 'monotonic_cst': None,\n",
       " 'random_state': 0,\n",
       " 'splitter': 'best'}"
      ]
     },
     "execution_count": 129,
     "metadata": {},
     "output_type": "execute_result"
    }
   ],
   "source": [
    "RegDec.get_params()"
   ]
  },
  {
   "cell_type": "code",
   "execution_count": null,
   "id": "32e69097-c116-48c5-aa1b-aab0aa8366a4",
   "metadata": {},
   "outputs": [],
   "source": []
  },
  {
   "cell_type": "code",
   "execution_count": null,
   "id": "c2905f56-cc25-4016-9df4-bf049beabedd",
   "metadata": {},
   "outputs": [],
   "source": []
  },
  {
   "cell_type": "code",
   "execution_count": 130,
   "id": "db39a019-5b85-4ca1-bbdb-ed2e25b57e5a",
   "metadata": {},
   "outputs": [],
   "source": [
    "from sklearn import tree \n"
   ]
  },
  {
   "cell_type": "code",
   "execution_count": null,
   "id": "78487f4a-7ac4-4963-8037-905d8a83f307",
   "metadata": {},
   "outputs": [],
   "source": []
  },
  {
   "cell_type": "code",
   "execution_count": null,
   "id": "3434d052-94c2-4617-8a90-5a3e6eab117b",
   "metadata": {},
   "outputs": [],
   "source": []
  },
  {
   "cell_type": "code",
   "execution_count": 131,
   "id": "6bdfca13-cbbc-49da-a5f0-7388fda682a6",
   "metadata": {},
   "outputs": [],
   "source": [
    "%matplotlib inline"
   ]
  },
  {
   "cell_type": "code",
   "execution_count": 132,
   "id": "40b2d5c8-3397-406e-b58e-46b0e4a6e5c5",
   "metadata": {
    "scrolled": true
   },
   "outputs": [
    {
     "data": {
      "text/plain": [
       "<Figure size 8200x8000 with 0 Axes>"
      ]
     },
     "execution_count": 132,
     "metadata": {},
     "output_type": "execute_result"
    },
    {
     "data": {
      "text/plain": [
       "<Figure size 8200x8000 with 0 Axes>"
      ]
     },
     "metadata": {},
     "output_type": "display_data"
    }
   ],
   "source": [
    "plt.figure(figsize=(82,80))\n"
   ]
  },
  {
   "cell_type": "code",
   "execution_count": 133,
   "id": "bb5a084b-b181-4f99-bade-445df63eeb9a",
   "metadata": {},
   "outputs": [
    {
     "data": {
      "text/plain": [
       "[Text(0.4700520833333333, 0.9375, ' inflation <= 21.4\\nsquared_error = 45.563\\nsamples = 100\\nvalue = 22.158'),\n",
       " Text(0.203125, 0.8125, ' inflation <= 15.55\\nsquared_error = 5.237\\nsamples = 47\\nvalue = 15.545'),\n",
       " Text(0.33658854166666663, 0.875, 'True  '),\n",
       " Text(0.08333333333333333, 0.6875, ' inflation <= 13.7\\nsquared_error = 0.911\\nsamples = 26\\nvalue = 13.835'),\n",
       " Text(0.041666666666666664, 0.5625, 'EPS  <= 2.63\\nsquared_error = 0.062\\nsamples = 12\\nvalue = 12.825'),\n",
       " Text(0.020833333333333332, 0.4375, 'squared_error = 0.0\\nsamples = 1\\nvalue = 12.0'),\n",
       " Text(0.0625, 0.4375, 'squared_error = -0.0\\nsamples = 11\\nvalue = 12.9'),\n",
       " Text(0.125, 0.5625, 'price_Buy <= 39.443\\nsquared_error = 0.017\\nsamples = 14\\nvalue = 14.7'),\n",
       " Text(0.10416666666666667, 0.4375, 'squared_error = 0.0\\nsamples = 4\\nvalue = 14.5'),\n",
       " Text(0.14583333333333334, 0.4375, ' net profit <= 1.84\\nsquared_error = 0.002\\nsamples = 10\\nvalue = 14.78'),\n",
       " Text(0.125, 0.3125, 'squared_error = -0.0\\nsamples = 8\\nvalue = 14.8'),\n",
       " Text(0.16666666666666666, 0.3125, ' net profit <= 2.68\\nsquared_error = 0.0\\nsamples = 2\\nvalue = 14.7'),\n",
       " Text(0.14583333333333334, 0.1875, 'squared_error = 0.0\\nsamples = 1\\nvalue = 14.7'),\n",
       " Text(0.1875, 0.1875, 'squared_error = 0.0\\nsamples = 1\\nvalue = 14.7'),\n",
       " Text(0.3229166666666667, 0.6875, ' inflation <= 18.7\\nsquared_error = 2.49\\nsamples = 21\\nvalue = 17.662'),\n",
       " Text(0.2708333333333333, 0.5625, 'price_Buy <= 66.684\\nsquared_error = 0.293\\nsamples = 15\\nvalue = 16.713'),\n",
       " Text(0.22916666666666666, 0.4375, 'EPS  <= 17.23\\nsquared_error = 0.01\\nsamples = 11\\nvalue = 16.391'),\n",
       " Text(0.20833333333333334, 0.3125, 'squared_error = -0.0\\nsamples = 6\\nvalue = 16.3'),\n",
       " Text(0.25, 0.3125, 'squared_error = -0.0\\nsamples = 5\\nvalue = 16.5'),\n",
       " Text(0.3125, 0.4375, 'roa <= 34.985\\nsquared_error = 0.0\\nsamples = 4\\nvalue = 17.6'),\n",
       " Text(0.2916666666666667, 0.3125, 'squared_error = 0.0\\nsamples = 1\\nvalue = 17.6'),\n",
       " Text(0.3333333333333333, 0.3125, 'squared_error = 0.0\\nsamples = 3\\nvalue = 17.6'),\n",
       " Text(0.375, 0.5625, 'Volatility_Buy <= 0.252\\nsquared_error = 0.109\\nsamples = 6\\nvalue = 20.033'),\n",
       " Text(0.3541666666666667, 0.4375, 'squared_error = 0.0\\nsamples = 4\\nvalue = 19.8'),\n",
       " Text(0.3958333333333333, 0.4375, 'squared_error = -0.0\\nsamples = 2\\nvalue = 20.5'),\n",
       " Text(0.7369791666666666, 0.8125, ' inflation <= 28.2\\nsquared_error = 8.146\\nsamples = 53\\nvalue = 28.023'),\n",
       " Text(0.603515625, 0.875, '  False'),\n",
       " Text(0.578125, 0.6875, ' inflation <= 25.7\\nsquared_error = 3.485\\nsamples = 27\\nvalue = 25.659'),\n",
       " Text(0.4791666666666667, 0.5625, ' inflation <= 23.8\\nsquared_error = 1.613\\nsamples = 13\\nvalue = 23.992'),\n",
       " Text(0.4375, 0.4375, ' inflation <= 22.55\\nsquared_error = 0.04\\nsamples = 5\\nvalue = 22.4'),\n",
       " Text(0.4166666666666667, 0.3125, 'squared_error = 0.0\\nsamples = 4\\nvalue = 22.3'),\n",
       " Text(0.4583333333333333, 0.3125, 'squared_error = 0.0\\nsamples = 1\\nvalue = 22.8'),\n",
       " Text(0.5208333333333334, 0.4375, 'roa <= 12.915\\nsquared_error = 0.021\\nsamples = 8\\nvalue = 24.988'),\n",
       " Text(0.5, 0.3125, 'squared_error = 0.0\\nsamples = 3\\nvalue = 24.8'),\n",
       " Text(0.5416666666666666, 0.3125, 'squared_error = 0.0\\nsamples = 5\\nvalue = 25.1'),\n",
       " Text(0.6770833333333334, 0.5625, ' inflation <= 27.1\\nsquared_error = 0.246\\nsamples = 14\\nvalue = 27.207'),\n",
       " Text(0.6041666666666666, 0.4375, 'ESG_ranking <= 1.56\\nsquared_error = 0.086\\nsamples = 5\\nvalue = 26.66'),\n",
       " Text(0.5833333333333334, 0.3125, 'squared_error = 0.0\\nsamples = 2\\nvalue = 26.3'),\n",
       " Text(0.625, 0.3125, ' inflation  <= 0.74\\nsquared_error = 0.0\\nsamples = 3\\nvalue = 26.9'),\n",
       " Text(0.6041666666666666, 0.1875, 'amount <= 7525.0\\nsquared_error = 0.0\\nsamples = 2\\nvalue = 26.9'),\n",
       " Text(0.5833333333333334, 0.0625, 'squared_error = 0.0\\nsamples = 1\\nvalue = 26.9'),\n",
       " Text(0.625, 0.0625, 'squared_error = 0.0\\nsamples = 1\\nvalue = 26.9'),\n",
       " Text(0.6458333333333334, 0.1875, 'squared_error = 0.0\\nsamples = 1\\nvalue = 26.9'),\n",
       " Text(0.75, 0.4375, 'roa <= 11.735\\nsquared_error = 0.077\\nsamples = 9\\nvalue = 27.511'),\n",
       " Text(0.7083333333333334, 0.3125, 'current <= 0.945\\nsquared_error = 0.0\\nsamples = 3\\nvalue = 27.9'),\n",
       " Text(0.6875, 0.1875, 'squared_error = 0.0\\nsamples = 1\\nvalue = 27.9'),\n",
       " Text(0.7291666666666666, 0.1875, 'horizon <= 315.0\\nsquared_error = 0.0\\nsamples = 2\\nvalue = 27.9'),\n",
       " Text(0.7083333333333334, 0.0625, 'squared_error = 0.0\\nsamples = 1\\nvalue = 27.9'),\n",
       " Text(0.75, 0.0625, 'squared_error = 0.0\\nsamples = 1\\nvalue = 27.9'),\n",
       " Text(0.7916666666666666, 0.3125, ' inflation <= 27.35\\nsquared_error = 0.001\\nsamples = 6\\nvalue = 27.317'),\n",
       " Text(0.7708333333333334, 0.1875, 'squared_error = 0.0\\nsamples = 5\\nvalue = 27.3'),\n",
       " Text(0.8125, 0.1875, 'squared_error = -0.0\\nsamples = 1\\nvalue = 27.4'),\n",
       " Text(0.8958333333333334, 0.6875, ' inflation <= 30.3\\nsquared_error = 1.162\\nsamples = 26\\nvalue = 30.477'),\n",
       " Text(0.8333333333333334, 0.5625, ' inflation <= 29.1\\nsquared_error = 0.418\\nsamples = 10\\nvalue = 29.28'),\n",
       " Text(0.8125, 0.4375, 'squared_error = 0.0\\nsamples = 4\\nvalue = 28.5'),\n",
       " Text(0.8541666666666666, 0.4375, 'price_Buy <= 11.461\\nsquared_error = 0.02\\nsamples = 6\\nvalue = 29.8'),\n",
       " Text(0.8333333333333334, 0.3125, 'squared_error = -0.0\\nsamples = 4\\nvalue = 29.7'),\n",
       " Text(0.875, 0.3125, 'squared_error = 0.0\\nsamples = 2\\nvalue = 30.0'),\n",
       " Text(0.9583333333333334, 0.5625, 'EPS  <= 11.42\\nsquared_error = 0.172\\nsamples = 16\\nvalue = 31.225'),\n",
       " Text(0.9375, 0.4375, 'current <= -3.21\\nsquared_error = 0.063\\nsamples = 8\\nvalue = 30.85'),\n",
       " Text(0.9166666666666666, 0.3125, 'squared_error = 0.0\\nsamples = 4\\nvalue = 31.1'),\n",
       " Text(0.9583333333333334, 0.3125, 'current <= -0.43\\nsquared_error = 0.0\\nsamples = 4\\nvalue = 30.6'),\n",
       " Text(0.9375, 0.1875, 'squared_error = 0.0\\nsamples = 1\\nvalue = 30.6'),\n",
       " Text(0.9791666666666666, 0.1875, 'squared_error = -0.0\\nsamples = 3\\nvalue = 30.6'),\n",
       " Text(0.9791666666666666, 0.4375, 'squared_error = -0.0\\nsamples = 8\\nvalue = 31.6')]"
      ]
     },
     "execution_count": 133,
     "metadata": {},
     "output_type": "execute_result"
    },
    {
     "data": {
      "image/png": "[encoded data removed]",
      "text/plain": [
       "<Figure size 640x480 with 1 Axes>"
      ]
     },
     "metadata": {},
     "output_type": "display_data"
    }
   ],
   "source": [
    "\n",
    "\n",
    "tree.plot_tree(RegDec, feature_names = [\"horizon\",\"amount\", \"price_Buy\", \"Volatility_Buy\", \" inflation \", \" inflation\", \"ESG_ranking\", \"EPS \",\" net profit\",\"current\", \"roa\", \"roe\" ], filled = True, rounded= True)\n"
   ]
  },
  {
   "cell_type": "code",
   "execution_count": null,
   "id": "04e2471c-ec0d-44c4-bd4f-4c2907ae2620",
   "metadata": {},
   "outputs": [],
   "source": []
  },
  {
   "cell_type": "code",
   "execution_count": 134,
   "id": "e074ffcb-13e0-4bc4-a277-b1168606d3a5",
   "metadata": {},
   "outputs": [],
   "source": [
    "import matplotlib.style  as mplstyle\n",
    "\n",
    "\n",
    "mplstyle.use(\"fast\")\n"
   ]
  },
  {
   "cell_type": "code",
   "execution_count": 80,
   "id": "a7a97a2a-5bc0-4290-a482-b7504fb81cda",
   "metadata": {},
   "outputs": [],
   "source": [
    "plt.show()"
   ]
  },
  {
   "cell_type": "markdown",
   "id": "f19ccee5-47fc-4ce4-95ab-70206cbaf6ba",
   "metadata": {},
   "source": [
    "## "
   ]
  },
  {
   "cell_type": "code",
   "execution_count": 173,
   "id": "17e024c3-2a20-4e31-82e0-d64b87a778fc",
   "metadata": {},
   "outputs": [],
   "source": [
    " #from sklearn.tree import export_graphviz\n",
    "#graphic = export_graphviz(RegDec, feature_names = [\"horizon\",\"amount\", \"price_Buy\", \"Volatility_Buy\", \"expected return\",\" inflation\", \"ESG_ranking\", \"EPS \",\" net profit\",\"current\", \"roa\", \"roe\" ], filled = True, rounded= True)\n"
   ]
  },
  {
   "cell_type": "code",
   "execution_count": 78,
   "id": "725a9869-5644-403c-86bb-55d7de3e4301",
   "metadata": {},
   "outputs": [
    {
     "ename": "ExecutableNotFound",
     "evalue": "failed to execute PosixPath('dot'), make sure the Graphviz executables are on your systems' PATH",
     "output_type": "error",
     "traceback": [
      "\u001b[0;31m---------------------------------------------------------------------------\u001b[0m",
      "\u001b[0;31mFileNotFoundError\u001b[0m                         Traceback (most recent call last)",
      "File \u001b[0;32m/Library/Frameworks/Python.framework/Versions/3.12/lib/python3.12/site-packages/graphviz/backend/execute.py:78\u001b[0m, in \u001b[0;36mrun_check\u001b[0;34m(cmd, input_lines, encoding, quiet, **kwargs)\u001b[0m\n\u001b[1;32m     77\u001b[0m     \u001b[38;5;28;01melse\u001b[39;00m:\n\u001b[0;32m---> 78\u001b[0m         proc \u001b[38;5;241m=\u001b[39m \u001b[43msubprocess\u001b[49m\u001b[38;5;241;43m.\u001b[39;49m\u001b[43mrun\u001b[49m\u001b[43m(\u001b[49m\u001b[43mcmd\u001b[49m\u001b[43m,\u001b[49m\u001b[43m \u001b[49m\u001b[38;5;241;43m*\u001b[39;49m\u001b[38;5;241;43m*\u001b[39;49m\u001b[43mkwargs\u001b[49m\u001b[43m)\u001b[49m\n\u001b[1;32m     79\u001b[0m \u001b[38;5;28;01mexcept\u001b[39;00m \u001b[38;5;167;01mOSError\u001b[39;00m \u001b[38;5;28;01mas\u001b[39;00m e:\n",
      "File \u001b[0;32m/Library/Frameworks/Python.framework/Versions/3.12/lib/python3.12/subprocess.py:548\u001b[0m, in \u001b[0;36mrun\u001b[0;34m(input, capture_output, timeout, check, *popenargs, **kwargs)\u001b[0m\n\u001b[1;32m    546\u001b[0m     kwargs[\u001b[38;5;124m'\u001b[39m\u001b[38;5;124mstderr\u001b[39m\u001b[38;5;124m'\u001b[39m] \u001b[38;5;241m=\u001b[39m PIPE\n\u001b[0;32m--> 548\u001b[0m \u001b[38;5;28;01mwith\u001b[39;00m \u001b[43mPopen\u001b[49m\u001b[43m(\u001b[49m\u001b[38;5;241;43m*\u001b[39;49m\u001b[43mpopenargs\u001b[49m\u001b[43m,\u001b[49m\u001b[43m \u001b[49m\u001b[38;5;241;43m*\u001b[39;49m\u001b[38;5;241;43m*\u001b[39;49m\u001b[43mkwargs\u001b[49m\u001b[43m)\u001b[49m \u001b[38;5;28;01mas\u001b[39;00m process:\n\u001b[1;32m    549\u001b[0m     \u001b[38;5;28;01mtry\u001b[39;00m:\n",
      "File \u001b[0;32m/Library/Frameworks/Python.framework/Versions/3.12/lib/python3.12/subprocess.py:1026\u001b[0m, in \u001b[0;36mPopen.__init__\u001b[0;34m(self, args, bufsize, executable, stdin, stdout, stderr, preexec_fn, close_fds, shell, cwd, env, universal_newlines, startupinfo, creationflags, restore_signals, start_new_session, pass_fds, user, group, extra_groups, encoding, errors, text, umask, pipesize, process_group)\u001b[0m\n\u001b[1;32m   1023\u001b[0m             \u001b[38;5;28mself\u001b[39m\u001b[38;5;241m.\u001b[39mstderr \u001b[38;5;241m=\u001b[39m io\u001b[38;5;241m.\u001b[39mTextIOWrapper(\u001b[38;5;28mself\u001b[39m\u001b[38;5;241m.\u001b[39mstderr,\n\u001b[1;32m   1024\u001b[0m                     encoding\u001b[38;5;241m=\u001b[39mencoding, errors\u001b[38;5;241m=\u001b[39merrors)\n\u001b[0;32m-> 1026\u001b[0m     \u001b[38;5;28;43mself\u001b[39;49m\u001b[38;5;241;43m.\u001b[39;49m\u001b[43m_execute_child\u001b[49m\u001b[43m(\u001b[49m\u001b[43margs\u001b[49m\u001b[43m,\u001b[49m\u001b[43m \u001b[49m\u001b[43mexecutable\u001b[49m\u001b[43m,\u001b[49m\u001b[43m \u001b[49m\u001b[43mpreexec_fn\u001b[49m\u001b[43m,\u001b[49m\u001b[43m \u001b[49m\u001b[43mclose_fds\u001b[49m\u001b[43m,\u001b[49m\n\u001b[1;32m   1027\u001b[0m \u001b[43m                        \u001b[49m\u001b[43mpass_fds\u001b[49m\u001b[43m,\u001b[49m\u001b[43m \u001b[49m\u001b[43mcwd\u001b[49m\u001b[43m,\u001b[49m\u001b[43m \u001b[49m\u001b[43menv\u001b[49m\u001b[43m,\u001b[49m\n\u001b[1;32m   1028\u001b[0m \u001b[43m                        \u001b[49m\u001b[43mstartupinfo\u001b[49m\u001b[43m,\u001b[49m\u001b[43m \u001b[49m\u001b[43mcreationflags\u001b[49m\u001b[43m,\u001b[49m\u001b[43m \u001b[49m\u001b[43mshell\u001b[49m\u001b[43m,\u001b[49m\n\u001b[1;32m   1029\u001b[0m \u001b[43m                        \u001b[49m\u001b[43mp2cread\u001b[49m\u001b[43m,\u001b[49m\u001b[43m \u001b[49m\u001b[43mp2cwrite\u001b[49m\u001b[43m,\u001b[49m\n\u001b[1;32m   1030\u001b[0m \u001b[43m                        \u001b[49m\u001b[43mc2pread\u001b[49m\u001b[43m,\u001b[49m\u001b[43m \u001b[49m\u001b[43mc2pwrite\u001b[49m\u001b[43m,\u001b[49m\n\u001b[1;32m   1031\u001b[0m \u001b[43m                        \u001b[49m\u001b[43merrread\u001b[49m\u001b[43m,\u001b[49m\u001b[43m \u001b[49m\u001b[43merrwrite\u001b[49m\u001b[43m,\u001b[49m\n\u001b[1;32m   1032\u001b[0m \u001b[43m                        \u001b[49m\u001b[43mrestore_signals\u001b[49m\u001b[43m,\u001b[49m\n\u001b[1;32m   1033\u001b[0m \u001b[43m                        \u001b[49m\u001b[43mgid\u001b[49m\u001b[43m,\u001b[49m\u001b[43m \u001b[49m\u001b[43mgids\u001b[49m\u001b[43m,\u001b[49m\u001b[43m \u001b[49m\u001b[43muid\u001b[49m\u001b[43m,\u001b[49m\u001b[43m \u001b[49m\u001b[43mumask\u001b[49m\u001b[43m,\u001b[49m\n\u001b[1;32m   1034\u001b[0m \u001b[43m                        \u001b[49m\u001b[43mstart_new_session\u001b[49m\u001b[43m,\u001b[49m\u001b[43m \u001b[49m\u001b[43mprocess_group\u001b[49m\u001b[43m)\u001b[49m\n\u001b[1;32m   1035\u001b[0m \u001b[38;5;28;01mexcept\u001b[39;00m:\n\u001b[1;32m   1036\u001b[0m     \u001b[38;5;66;03m# Cleanup if the child failed starting.\u001b[39;00m\n",
      "File \u001b[0;32m/Library/Frameworks/Python.framework/Versions/3.12/lib/python3.12/subprocess.py:1950\u001b[0m, in \u001b[0;36mPopen._execute_child\u001b[0;34m(self, args, executable, preexec_fn, close_fds, pass_fds, cwd, env, startupinfo, creationflags, shell, p2cread, p2cwrite, c2pread, c2pwrite, errread, errwrite, restore_signals, gid, gids, uid, umask, start_new_session, process_group)\u001b[0m\n\u001b[1;32m   1949\u001b[0m         err_msg \u001b[38;5;241m=\u001b[39m os\u001b[38;5;241m.\u001b[39mstrerror(errno_num)\n\u001b[0;32m-> 1950\u001b[0m     \u001b[38;5;28;01mraise\u001b[39;00m child_exception_type(errno_num, err_msg, err_filename)\n\u001b[1;32m   1951\u001b[0m \u001b[38;5;28;01mraise\u001b[39;00m child_exception_type(err_msg)\n",
      "\u001b[0;31mFileNotFoundError\u001b[0m: [Errno 2] No such file or directory: PosixPath('dot')",
      "\nThe above exception was the direct cause of the following exception:\n",
      "\u001b[0;31mExecutableNotFound\u001b[0m                        Traceback (most recent call last)",
      "Cell \u001b[0;32mIn[78], line 6\u001b[0m\n\u001b[1;32m      1\u001b[0m \u001b[38;5;28;01mimport\u001b[39;00m \u001b[38;5;21;01mgraphviz\u001b[39;00m\n\u001b[1;32m      4\u001b[0m Visual \u001b[38;5;241m=\u001b[39m graphviz\u001b[38;5;241m.\u001b[39mSource(graphic)\n\u001b[0;32m----> 6\u001b[0m \u001b[43mVisual\u001b[49m\u001b[38;5;241;43m.\u001b[39;49m\u001b[43mrender\u001b[49m\u001b[43m(\u001b[49m\u001b[38;5;124;43m\"\u001b[39;49m\u001b[38;5;124;43mdecision_tree_regressor\u001b[39;49m\u001b[38;5;124;43m\"\u001b[39;49m\u001b[43m)\u001b[49m\n\u001b[1;32m      7\u001b[0m Visual\u001b[38;5;241m.\u001b[39mView()\n",
      "File \u001b[0;32m/Library/Frameworks/Python.framework/Versions/3.12/lib/python3.12/site-packages/graphviz/_tools.py:171\u001b[0m, in \u001b[0;36mdeprecate_positional_args.<locals>.decorator.<locals>.wrapper\u001b[0;34m(*args, **kwargs)\u001b[0m\n\u001b[1;32m    162\u001b[0m     wanted \u001b[38;5;241m=\u001b[39m \u001b[38;5;124m'\u001b[39m\u001b[38;5;124m, \u001b[39m\u001b[38;5;124m'\u001b[39m\u001b[38;5;241m.\u001b[39mjoin(\u001b[38;5;124mf\u001b[39m\u001b[38;5;124m'\u001b[39m\u001b[38;5;132;01m{\u001b[39;00mname\u001b[38;5;132;01m}\u001b[39;00m\u001b[38;5;124m=\u001b[39m\u001b[38;5;132;01m{\u001b[39;00mvalue\u001b[38;5;132;01m!r}\u001b[39;00m\u001b[38;5;124m'\u001b[39m\n\u001b[1;32m    163\u001b[0m                        \u001b[38;5;28;01mfor\u001b[39;00m name, value \u001b[38;5;129;01min\u001b[39;00m deprecated\u001b[38;5;241m.\u001b[39mitems())\n\u001b[1;32m    164\u001b[0m     warnings\u001b[38;5;241m.\u001b[39mwarn(\u001b[38;5;124mf\u001b[39m\u001b[38;5;124m'\u001b[39m\u001b[38;5;124mThe signature of \u001b[39m\u001b[38;5;132;01m{\u001b[39;00mfunc\u001b[38;5;241m.\u001b[39m\u001b[38;5;18m__name__\u001b[39m\u001b[38;5;132;01m}\u001b[39;00m\u001b[38;5;124m will be reduced\u001b[39m\u001b[38;5;124m'\u001b[39m\n\u001b[1;32m    165\u001b[0m                   \u001b[38;5;124mf\u001b[39m\u001b[38;5;124m'\u001b[39m\u001b[38;5;124m to \u001b[39m\u001b[38;5;132;01m{\u001b[39;00msupported_number\u001b[38;5;132;01m}\u001b[39;00m\u001b[38;5;124m positional args\u001b[39m\u001b[38;5;124m'\u001b[39m\n\u001b[1;32m    166\u001b[0m                   \u001b[38;5;124mf\u001b[39m\u001b[38;5;124m'\u001b[39m\u001b[38;5;124m \u001b[39m\u001b[38;5;132;01m{\u001b[39;00m\u001b[38;5;28mlist\u001b[39m(supported)\u001b[38;5;132;01m}\u001b[39;00m\u001b[38;5;124m: pass \u001b[39m\u001b[38;5;132;01m{\u001b[39;00mwanted\u001b[38;5;132;01m}\u001b[39;00m\u001b[38;5;124m'\u001b[39m\n\u001b[1;32m    167\u001b[0m                   \u001b[38;5;124m'\u001b[39m\u001b[38;5;124m as keyword arg(s)\u001b[39m\u001b[38;5;124m'\u001b[39m,\n\u001b[1;32m    168\u001b[0m                   stacklevel\u001b[38;5;241m=\u001b[39mstacklevel,\n\u001b[1;32m    169\u001b[0m                   category\u001b[38;5;241m=\u001b[39mcategory)\n\u001b[0;32m--> 171\u001b[0m \u001b[38;5;28;01mreturn\u001b[39;00m \u001b[43mfunc\u001b[49m\u001b[43m(\u001b[49m\u001b[38;5;241;43m*\u001b[39;49m\u001b[43margs\u001b[49m\u001b[43m,\u001b[49m\u001b[43m \u001b[49m\u001b[38;5;241;43m*\u001b[39;49m\u001b[38;5;241;43m*\u001b[39;49m\u001b[43mkwargs\u001b[49m\u001b[43m)\u001b[49m\n",
      "File \u001b[0;32m/Library/Frameworks/Python.framework/Versions/3.12/lib/python3.12/site-packages/graphviz/rendering.py:122\u001b[0m, in \u001b[0;36mRender.render\u001b[0;34m(self, filename, directory, view, cleanup, format, renderer, formatter, neato_no_op, quiet, quiet_view, outfile, engine, raise_if_result_exists, overwrite_source)\u001b[0m\n\u001b[1;32m    118\u001b[0m filepath \u001b[38;5;241m=\u001b[39m \u001b[38;5;28mself\u001b[39m\u001b[38;5;241m.\u001b[39msave(filename, directory\u001b[38;5;241m=\u001b[39mdirectory, skip_existing\u001b[38;5;241m=\u001b[39m\u001b[38;5;28;01mNone\u001b[39;00m)\n\u001b[1;32m    120\u001b[0m args\u001b[38;5;241m.\u001b[39mappend(filepath)\n\u001b[0;32m--> 122\u001b[0m rendered \u001b[38;5;241m=\u001b[39m \u001b[38;5;28;43mself\u001b[39;49m\u001b[38;5;241;43m.\u001b[39;49m\u001b[43m_render\u001b[49m\u001b[43m(\u001b[49m\u001b[38;5;241;43m*\u001b[39;49m\u001b[43margs\u001b[49m\u001b[43m,\u001b[49m\u001b[43m \u001b[49m\u001b[38;5;241;43m*\u001b[39;49m\u001b[38;5;241;43m*\u001b[39;49m\u001b[43mkwargs\u001b[49m\u001b[43m)\u001b[49m\n\u001b[1;32m    124\u001b[0m \u001b[38;5;28;01mif\u001b[39;00m cleanup:\n\u001b[1;32m    125\u001b[0m     log\u001b[38;5;241m.\u001b[39mdebug(\u001b[38;5;124m'\u001b[39m\u001b[38;5;124mdelete \u001b[39m\u001b[38;5;132;01m%r\u001b[39;00m\u001b[38;5;124m'\u001b[39m, filepath)\n",
      "File \u001b[0;32m/Library/Frameworks/Python.framework/Versions/3.12/lib/python3.12/site-packages/graphviz/_tools.py:171\u001b[0m, in \u001b[0;36mdeprecate_positional_args.<locals>.decorator.<locals>.wrapper\u001b[0;34m(*args, **kwargs)\u001b[0m\n\u001b[1;32m    162\u001b[0m     wanted \u001b[38;5;241m=\u001b[39m \u001b[38;5;124m'\u001b[39m\u001b[38;5;124m, \u001b[39m\u001b[38;5;124m'\u001b[39m\u001b[38;5;241m.\u001b[39mjoin(\u001b[38;5;124mf\u001b[39m\u001b[38;5;124m'\u001b[39m\u001b[38;5;132;01m{\u001b[39;00mname\u001b[38;5;132;01m}\u001b[39;00m\u001b[38;5;124m=\u001b[39m\u001b[38;5;132;01m{\u001b[39;00mvalue\u001b[38;5;132;01m!r}\u001b[39;00m\u001b[38;5;124m'\u001b[39m\n\u001b[1;32m    163\u001b[0m                        \u001b[38;5;28;01mfor\u001b[39;00m name, value \u001b[38;5;129;01min\u001b[39;00m deprecated\u001b[38;5;241m.\u001b[39mitems())\n\u001b[1;32m    164\u001b[0m     warnings\u001b[38;5;241m.\u001b[39mwarn(\u001b[38;5;124mf\u001b[39m\u001b[38;5;124m'\u001b[39m\u001b[38;5;124mThe signature of \u001b[39m\u001b[38;5;132;01m{\u001b[39;00mfunc\u001b[38;5;241m.\u001b[39m\u001b[38;5;18m__name__\u001b[39m\u001b[38;5;132;01m}\u001b[39;00m\u001b[38;5;124m will be reduced\u001b[39m\u001b[38;5;124m'\u001b[39m\n\u001b[1;32m    165\u001b[0m                   \u001b[38;5;124mf\u001b[39m\u001b[38;5;124m'\u001b[39m\u001b[38;5;124m to \u001b[39m\u001b[38;5;132;01m{\u001b[39;00msupported_number\u001b[38;5;132;01m}\u001b[39;00m\u001b[38;5;124m positional args\u001b[39m\u001b[38;5;124m'\u001b[39m\n\u001b[1;32m    166\u001b[0m                   \u001b[38;5;124mf\u001b[39m\u001b[38;5;124m'\u001b[39m\u001b[38;5;124m \u001b[39m\u001b[38;5;132;01m{\u001b[39;00m\u001b[38;5;28mlist\u001b[39m(supported)\u001b[38;5;132;01m}\u001b[39;00m\u001b[38;5;124m: pass \u001b[39m\u001b[38;5;132;01m{\u001b[39;00mwanted\u001b[38;5;132;01m}\u001b[39;00m\u001b[38;5;124m'\u001b[39m\n\u001b[1;32m    167\u001b[0m                   \u001b[38;5;124m'\u001b[39m\u001b[38;5;124m as keyword arg(s)\u001b[39m\u001b[38;5;124m'\u001b[39m,\n\u001b[1;32m    168\u001b[0m                   stacklevel\u001b[38;5;241m=\u001b[39mstacklevel,\n\u001b[1;32m    169\u001b[0m                   category\u001b[38;5;241m=\u001b[39mcategory)\n\u001b[0;32m--> 171\u001b[0m \u001b[38;5;28;01mreturn\u001b[39;00m \u001b[43mfunc\u001b[49m\u001b[43m(\u001b[49m\u001b[38;5;241;43m*\u001b[39;49m\u001b[43margs\u001b[49m\u001b[43m,\u001b[49m\u001b[43m \u001b[49m\u001b[38;5;241;43m*\u001b[39;49m\u001b[38;5;241;43m*\u001b[39;49m\u001b[43mkwargs\u001b[49m\u001b[43m)\u001b[49m\n",
      "File \u001b[0;32m/Library/Frameworks/Python.framework/Versions/3.12/lib/python3.12/site-packages/graphviz/backend/rendering.py:326\u001b[0m, in \u001b[0;36mrender\u001b[0;34m(engine, format, filepath, renderer, formatter, neato_no_op, quiet, outfile, raise_if_result_exists, overwrite_filepath)\u001b[0m\n\u001b[1;32m    322\u001b[0m cmd \u001b[38;5;241m+\u001b[39m\u001b[38;5;241m=\u001b[39m args\n\u001b[1;32m    324\u001b[0m \u001b[38;5;28;01massert\u001b[39;00m filepath \u001b[38;5;129;01mis\u001b[39;00m \u001b[38;5;129;01mnot\u001b[39;00m \u001b[38;5;28;01mNone\u001b[39;00m, \u001b[38;5;124m'\u001b[39m\u001b[38;5;124mwork around pytype false alarm\u001b[39m\u001b[38;5;124m'\u001b[39m\n\u001b[0;32m--> 326\u001b[0m \u001b[43mexecute\u001b[49m\u001b[38;5;241;43m.\u001b[39;49m\u001b[43mrun_check\u001b[49m\u001b[43m(\u001b[49m\u001b[43mcmd\u001b[49m\u001b[43m,\u001b[49m\n\u001b[1;32m    327\u001b[0m \u001b[43m                  \u001b[49m\u001b[43mcwd\u001b[49m\u001b[38;5;241;43m=\u001b[39;49m\u001b[43mfilepath\u001b[49m\u001b[38;5;241;43m.\u001b[39;49m\u001b[43mparent\u001b[49m\u001b[43m \u001b[49m\u001b[38;5;28;43;01mif\u001b[39;49;00m\u001b[43m \u001b[49m\u001b[43mfilepath\u001b[49m\u001b[38;5;241;43m.\u001b[39;49m\u001b[43mparent\u001b[49m\u001b[38;5;241;43m.\u001b[39;49m\u001b[43mparts\u001b[49m\u001b[43m \u001b[49m\u001b[38;5;28;43;01melse\u001b[39;49;00m\u001b[43m \u001b[49m\u001b[38;5;28;43;01mNone\u001b[39;49;00m\u001b[43m,\u001b[49m\n\u001b[1;32m    328\u001b[0m \u001b[43m                  \u001b[49m\u001b[43mquiet\u001b[49m\u001b[38;5;241;43m=\u001b[39;49m\u001b[43mquiet\u001b[49m\u001b[43m,\u001b[49m\n\u001b[1;32m    329\u001b[0m \u001b[43m                  \u001b[49m\u001b[43mcapture_output\u001b[49m\u001b[38;5;241;43m=\u001b[39;49m\u001b[38;5;28;43;01mTrue\u001b[39;49;00m\u001b[43m)\u001b[49m\n\u001b[1;32m    331\u001b[0m \u001b[38;5;28;01mreturn\u001b[39;00m os\u001b[38;5;241m.\u001b[39mfspath(outfile)\n",
      "File \u001b[0;32m/Library/Frameworks/Python.framework/Versions/3.12/lib/python3.12/site-packages/graphviz/backend/execute.py:81\u001b[0m, in \u001b[0;36mrun_check\u001b[0;34m(cmd, input_lines, encoding, quiet, **kwargs)\u001b[0m\n\u001b[1;32m     79\u001b[0m \u001b[38;5;28;01mexcept\u001b[39;00m \u001b[38;5;167;01mOSError\u001b[39;00m \u001b[38;5;28;01mas\u001b[39;00m e:\n\u001b[1;32m     80\u001b[0m     \u001b[38;5;28;01mif\u001b[39;00m e\u001b[38;5;241m.\u001b[39merrno \u001b[38;5;241m==\u001b[39m errno\u001b[38;5;241m.\u001b[39mENOENT:\n\u001b[0;32m---> 81\u001b[0m         \u001b[38;5;28;01mraise\u001b[39;00m ExecutableNotFound(cmd) \u001b[38;5;28;01mfrom\u001b[39;00m \u001b[38;5;21;01me\u001b[39;00m\n\u001b[1;32m     82\u001b[0m     \u001b[38;5;28;01mraise\u001b[39;00m\n\u001b[1;32m     84\u001b[0m \u001b[38;5;28;01mif\u001b[39;00m \u001b[38;5;129;01mnot\u001b[39;00m quiet \u001b[38;5;129;01mand\u001b[39;00m proc\u001b[38;5;241m.\u001b[39mstderr:\n",
      "\u001b[0;31mExecutableNotFound\u001b[0m: failed to execute PosixPath('dot'), make sure the Graphviz executables are on your systems' PATH"
     ]
    }
   ],
   "source": [
    "#import graphviz\n",
    "\n",
    "\n",
    "#Visual = graphviz.Source(graphic)\n",
    "\n",
    "#Visual.render(\"decision_tree_regressor\")\n",
    "#Visual.View()"
   ]
  },
  {
   "cell_type": "code",
   "execution_count": null,
   "id": "f21fc439-bde3-4803-8f7f-26617b4bdd3f",
   "metadata": {},
   "outputs": [],
   "source": []
  }
 ],
 "metadata": {
  "kernelspec": {
   "display_name": "Python 3 (ipykernel)",
   "language": "python",
   "name": "python3"
  },
  "language_info": {
   "codemirror_mode": {
    "name": "ipython",
    "version": 3
   },
   "file_extension": ".py",
   "mimetype": "text/x-python",
   "name": "python",
   "nbconvert_exporter": "python",
   "pygments_lexer": "ipython3",
   "version": "3.12.1"
  }
 },
 "nbformat": 4,
 "nbformat_minor": 5
}
